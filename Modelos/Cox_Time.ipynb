{
  "nbformat": 4,
  "nbformat_minor": 0,
  "metadata": {
    "colab": {
      "provenance": [],
      "authorship_tag": "ABX9TyOFTdJxCxoNSzdjS+eFoz+n",
      "include_colab_link": true
    },
    "kernelspec": {
      "name": "python3",
      "display_name": "Python 3"
    },
    "language_info": {
      "name": "python"
    }
  },
  "cells": [
    {
      "cell_type": "markdown",
      "metadata": {
        "id": "view-in-github",
        "colab_type": "text"
      },
      "source": [
        "<a href=\"https://colab.research.google.com/github/NOKOGIDO/Time-to-Event/blob/main/Modelos/Cox_Time.ipynb\" target=\"_parent\"><img src=\"https://colab.research.google.com/assets/colab-badge.svg\" alt=\"Open In Colab\"/></a>"
      ]
    },
    {
      "cell_type": "markdown",
      "source": [
        "# **Cox-Time**"
      ],
      "metadata": {
        "id": "WS6torEmm7IX"
      }
    },
    {
      "cell_type": "markdown",
      "source": [
        "En este cuaderno se empleará el método **Cox-Time.**\n",
        "\n",
        "Cox-Time es un método de tiempo continuo, es decir, no es necesario discretizar la escala de tiempos."
      ],
      "metadata": {
        "id": "fbTBD33mvC6x"
      }
    },
    {
      "cell_type": "code",
      "source": [
        "!git clone https://github.com/havakv/pycox.git"
      ],
      "metadata": {
        "colab": {
          "base_uri": "https://localhost:8080/"
        },
        "id": "_d1ZxSUunqSK",
        "outputId": "dd4f1a3f-934a-4b44-f2c3-78ca332743d7"
      },
      "execution_count": null,
      "outputs": [
        {
          "output_type": "stream",
          "name": "stdout",
          "text": [
            "fatal: destination path 'pycox' already exists and is not an empty directory.\n"
          ]
        }
      ]
    },
    {
      "cell_type": "code",
      "source": [
        "! pip install sklearn-pandas"
      ],
      "metadata": {
        "colab": {
          "base_uri": "https://localhost:8080/"
        },
        "id": "6i82Kvs7nsfU",
        "outputId": "1d654625-4462-4d5f-8b87-1402b9f06001"
      },
      "execution_count": null,
      "outputs": [
        {
          "output_type": "stream",
          "name": "stdout",
          "text": [
            "Requirement already satisfied: sklearn-pandas in /usr/local/lib/python3.10/dist-packages (2.2.0)\n",
            "Requirement already satisfied: scikit-learn>=0.23.0 in /usr/local/lib/python3.10/dist-packages (from sklearn-pandas) (1.2.2)\n",
            "Requirement already satisfied: scipy>=1.5.1 in /usr/local/lib/python3.10/dist-packages (from sklearn-pandas) (1.10.1)\n",
            "Requirement already satisfied: pandas>=1.1.4 in /usr/local/lib/python3.10/dist-packages (from sklearn-pandas) (1.5.3)\n",
            "Requirement already satisfied: numpy>=1.18.1 in /usr/local/lib/python3.10/dist-packages (from sklearn-pandas) (1.23.5)\n",
            "Requirement already satisfied: python-dateutil>=2.8.1 in /usr/local/lib/python3.10/dist-packages (from pandas>=1.1.4->sklearn-pandas) (2.8.2)\n",
            "Requirement already satisfied: pytz>=2020.1 in /usr/local/lib/python3.10/dist-packages (from pandas>=1.1.4->sklearn-pandas) (2023.3.post1)\n",
            "Requirement already satisfied: joblib>=1.1.1 in /usr/local/lib/python3.10/dist-packages (from scikit-learn>=0.23.0->sklearn-pandas) (1.3.2)\n",
            "Requirement already satisfied: threadpoolctl>=2.0.0 in /usr/local/lib/python3.10/dist-packages (from scikit-learn>=0.23.0->sklearn-pandas) (3.2.0)\n",
            "Requirement already satisfied: six>=1.5 in /usr/local/lib/python3.10/dist-packages (from python-dateutil>=2.8.1->pandas>=1.1.4->sklearn-pandas) (1.16.0)\n"
          ]
        }
      ]
    },
    {
      "cell_type": "code",
      "source": [
        "!pip install pycox"
      ],
      "metadata": {
        "colab": {
          "base_uri": "https://localhost:8080/"
        },
        "id": "dnLcdIhdpAJe",
        "outputId": "d6d8c040-d6aa-4a65-ad03-564936b59f2b"
      },
      "execution_count": null,
      "outputs": [
        {
          "output_type": "stream",
          "name": "stdout",
          "text": [
            "Requirement already satisfied: pycox in /usr/local/lib/python3.10/dist-packages (0.2.3)\n",
            "Requirement already satisfied: torchtuples>=0.2.0 in /usr/local/lib/python3.10/dist-packages (from pycox) (0.2.2)\n",
            "Requirement already satisfied: feather-format>=0.4.0 in /usr/local/lib/python3.10/dist-packages (from pycox) (0.4.1)\n",
            "Requirement already satisfied: h5py>=2.9.0 in /usr/local/lib/python3.10/dist-packages (from pycox) (3.9.0)\n",
            "Requirement already satisfied: numba>=0.44 in /usr/local/lib/python3.10/dist-packages (from pycox) (0.56.4)\n",
            "Requirement already satisfied: scikit-learn>=0.21.2 in /usr/local/lib/python3.10/dist-packages (from pycox) (1.2.2)\n",
            "Requirement already satisfied: requests>=2.22.0 in /usr/local/lib/python3.10/dist-packages (from pycox) (2.31.0)\n",
            "Requirement already satisfied: py7zr>=0.11.3 in /usr/local/lib/python3.10/dist-packages (from pycox) (0.20.6)\n",
            "Requirement already satisfied: pyarrow>=0.4.0 in /usr/local/lib/python3.10/dist-packages (from feather-format>=0.4.0->pycox) (9.0.0)\n",
            "Requirement already satisfied: numpy>=1.17.3 in /usr/local/lib/python3.10/dist-packages (from h5py>=2.9.0->pycox) (1.23.5)\n",
            "Requirement already satisfied: llvmlite<0.40,>=0.39.0dev0 in /usr/local/lib/python3.10/dist-packages (from numba>=0.44->pycox) (0.39.1)\n",
            "Requirement already satisfied: setuptools in /usr/local/lib/python3.10/dist-packages (from numba>=0.44->pycox) (67.7.2)\n",
            "Requirement already satisfied: texttable in /usr/local/lib/python3.10/dist-packages (from py7zr>=0.11.3->pycox) (1.6.7)\n",
            "Requirement already satisfied: pycryptodomex>=3.6.6 in /usr/local/lib/python3.10/dist-packages (from py7zr>=0.11.3->pycox) (3.18.0)\n",
            "Requirement already satisfied: pyzstd>=0.14.4 in /usr/local/lib/python3.10/dist-packages (from py7zr>=0.11.3->pycox) (0.15.9)\n",
            "Requirement already satisfied: pyppmd<1.1.0,>=0.18.1 in /usr/local/lib/python3.10/dist-packages (from py7zr>=0.11.3->pycox) (1.0.0)\n",
            "Requirement already satisfied: pybcj>=0.6.0 in /usr/local/lib/python3.10/dist-packages (from py7zr>=0.11.3->pycox) (1.0.1)\n",
            "Requirement already satisfied: multivolumefile>=0.2.3 in /usr/local/lib/python3.10/dist-packages (from py7zr>=0.11.3->pycox) (0.2.3)\n",
            "Requirement already satisfied: brotli>=1.0.9 in /usr/local/lib/python3.10/dist-packages (from py7zr>=0.11.3->pycox) (1.1.0)\n",
            "Requirement already satisfied: inflate64>=0.3.1 in /usr/local/lib/python3.10/dist-packages (from py7zr>=0.11.3->pycox) (0.3.1)\n",
            "Requirement already satisfied: psutil in /usr/local/lib/python3.10/dist-packages (from py7zr>=0.11.3->pycox) (5.9.5)\n",
            "Requirement already satisfied: charset-normalizer<4,>=2 in /usr/local/lib/python3.10/dist-packages (from requests>=2.22.0->pycox) (3.2.0)\n",
            "Requirement already satisfied: idna<4,>=2.5 in /usr/local/lib/python3.10/dist-packages (from requests>=2.22.0->pycox) (3.4)\n",
            "Requirement already satisfied: urllib3<3,>=1.21.1 in /usr/local/lib/python3.10/dist-packages (from requests>=2.22.0->pycox) (2.0.4)\n",
            "Requirement already satisfied: certifi>=2017.4.17 in /usr/local/lib/python3.10/dist-packages (from requests>=2.22.0->pycox) (2023.7.22)\n",
            "Requirement already satisfied: scipy>=1.3.2 in /usr/local/lib/python3.10/dist-packages (from scikit-learn>=0.21.2->pycox) (1.10.1)\n",
            "Requirement already satisfied: joblib>=1.1.1 in /usr/local/lib/python3.10/dist-packages (from scikit-learn>=0.21.2->pycox) (1.3.2)\n",
            "Requirement already satisfied: threadpoolctl>=2.0.0 in /usr/local/lib/python3.10/dist-packages (from scikit-learn>=0.21.2->pycox) (3.2.0)\n",
            "Requirement already satisfied: pandas>=0.24.2 in /usr/local/lib/python3.10/dist-packages (from torchtuples>=0.2.0->pycox) (1.5.3)\n",
            "Requirement already satisfied: matplotlib>=3.0.3 in /usr/local/lib/python3.10/dist-packages (from torchtuples>=0.2.0->pycox) (3.7.1)\n",
            "Requirement already satisfied: contourpy>=1.0.1 in /usr/local/lib/python3.10/dist-packages (from matplotlib>=3.0.3->torchtuples>=0.2.0->pycox) (1.1.0)\n",
            "Requirement already satisfied: cycler>=0.10 in /usr/local/lib/python3.10/dist-packages (from matplotlib>=3.0.3->torchtuples>=0.2.0->pycox) (0.11.0)\n",
            "Requirement already satisfied: fonttools>=4.22.0 in /usr/local/lib/python3.10/dist-packages (from matplotlib>=3.0.3->torchtuples>=0.2.0->pycox) (4.42.1)\n",
            "Requirement already satisfied: kiwisolver>=1.0.1 in /usr/local/lib/python3.10/dist-packages (from matplotlib>=3.0.3->torchtuples>=0.2.0->pycox) (1.4.5)\n",
            "Requirement already satisfied: packaging>=20.0 in /usr/local/lib/python3.10/dist-packages (from matplotlib>=3.0.3->torchtuples>=0.2.0->pycox) (23.1)\n",
            "Requirement already satisfied: pillow>=6.2.0 in /usr/local/lib/python3.10/dist-packages (from matplotlib>=3.0.3->torchtuples>=0.2.0->pycox) (9.4.0)\n",
            "Requirement already satisfied: pyparsing>=2.3.1 in /usr/local/lib/python3.10/dist-packages (from matplotlib>=3.0.3->torchtuples>=0.2.0->pycox) (3.1.1)\n",
            "Requirement already satisfied: python-dateutil>=2.7 in /usr/local/lib/python3.10/dist-packages (from matplotlib>=3.0.3->torchtuples>=0.2.0->pycox) (2.8.2)\n",
            "Requirement already satisfied: pytz>=2020.1 in /usr/local/lib/python3.10/dist-packages (from pandas>=0.24.2->torchtuples>=0.2.0->pycox) (2023.3.post1)\n",
            "Requirement already satisfied: six>=1.5 in /usr/local/lib/python3.10/dist-packages (from python-dateutil>=2.7->matplotlib>=3.0.3->torchtuples>=0.2.0->pycox) (1.16.0)\n"
          ]
        }
      ]
    },
    {
      "cell_type": "code",
      "source": [
        "import numpy as np\n",
        "import matplotlib.pyplot as plt\n",
        "from sklearn.preprocessing import StandardScaler\n",
        "from sklearn_pandas import DataFrameMapper\n",
        "\n",
        "import torch\n",
        "import torchtuples as tt\n",
        "\n",
        "from pycox.datasets import metabric\n",
        "#from pycox.datasets import support\n",
        "#from pycox.datasets import gbsg\n",
        "from pycox.models import CoxTime\n",
        "from pycox.models.cox_time import MLPVanillaCoxTime\n",
        "from pycox.evaluation import EvalSurv"
      ],
      "metadata": {
        "id": "CPN8WZ2qpELH"
      },
      "execution_count": null,
      "outputs": []
    },
    {
      "cell_type": "code",
      "source": [
        "np.random.seed(2587)\n",
        "_ = torch.manual_seed(258)"
      ],
      "metadata": {
        "id": "9rzrg7Q0pGdr"
      },
      "execution_count": null,
      "outputs": []
    },
    {
      "cell_type": "markdown",
      "source": [
        "#**Dataset**"
      ],
      "metadata": {
        "id": "gspmVlUxpJyd"
      }
    },
    {
      "cell_type": "markdown",
      "source": [
        "Cargamos el dataset METABRIC (en este apartado podemos cambiar para seleccionar el dataset Rot. & GBSG o el dataset SUPPORT) y hacemos las particiones de entrenamiento, test y validación."
      ],
      "metadata": {
        "id": "w6AjJZHdpgz1"
      }
    },
    {
      "cell_type": "code",
      "source": [
        "df_train = metabric.read_df()\n",
        "df_test = df_train.sample(frac=0.2)\n",
        "df_train = df_train.drop(df_test.index)\n",
        "df_val = df_train.sample(frac=0.2)\n",
        "df_train = df_train.drop(df_val.index)"
      ],
      "metadata": {
        "id": "N_45TXrbpncS"
      },
      "execution_count": null,
      "outputs": []
    },
    {
      "cell_type": "code",
      "source": [
        "df_train.head()"
      ],
      "metadata": {
        "colab": {
          "base_uri": "https://localhost:8080/",
          "height": 206
        },
        "id": "QlI_mU32qSJE",
        "outputId": "054cf855-8229-41ae-de04-d7306ae1ebb5"
      },
      "execution_count": null,
      "outputs": [
        {
          "output_type": "execute_result",
          "data": {
            "text/plain": [
              "          x0        x1         x2        x3   x4   x5   x6   x7         x8  \\\n",
              "0   5.603834  7.811392  10.797988  5.967607  1.0  1.0  0.0  1.0  56.840000   \n",
              "4   5.456747  5.339741  10.555724  6.008429  1.0  0.0  0.0  1.0  67.849998   \n",
              "7   5.916774  5.289600  12.981733  6.009507  0.0  1.0  0.0  1.0  64.610001   \n",
              "8   5.865741  6.738176  10.850687  5.596416  0.0  0.0  0.0  1.0  68.209999   \n",
              "11  6.333529  5.170259   8.742507  6.500216  0.0  1.0  1.0  0.0  55.020000   \n",
              "\n",
              "      duration  event  \n",
              "0    99.333336      0  \n",
              "4    56.933334      1  \n",
              "7   143.000000      1  \n",
              "8   150.600006      1  \n",
              "11  141.166672      0  "
            ],
            "text/html": [
              "\n",
              "  <div id=\"df-62abb541-8f49-4074-9ce1-a910f6691bff\" class=\"colab-df-container\">\n",
              "    <div>\n",
              "<style scoped>\n",
              "    .dataframe tbody tr th:only-of-type {\n",
              "        vertical-align: middle;\n",
              "    }\n",
              "\n",
              "    .dataframe tbody tr th {\n",
              "        vertical-align: top;\n",
              "    }\n",
              "\n",
              "    .dataframe thead th {\n",
              "        text-align: right;\n",
              "    }\n",
              "</style>\n",
              "<table border=\"1\" class=\"dataframe\">\n",
              "  <thead>\n",
              "    <tr style=\"text-align: right;\">\n",
              "      <th></th>\n",
              "      <th>x0</th>\n",
              "      <th>x1</th>\n",
              "      <th>x2</th>\n",
              "      <th>x3</th>\n",
              "      <th>x4</th>\n",
              "      <th>x5</th>\n",
              "      <th>x6</th>\n",
              "      <th>x7</th>\n",
              "      <th>x8</th>\n",
              "      <th>duration</th>\n",
              "      <th>event</th>\n",
              "    </tr>\n",
              "  </thead>\n",
              "  <tbody>\n",
              "    <tr>\n",
              "      <th>0</th>\n",
              "      <td>5.603834</td>\n",
              "      <td>7.811392</td>\n",
              "      <td>10.797988</td>\n",
              "      <td>5.967607</td>\n",
              "      <td>1.0</td>\n",
              "      <td>1.0</td>\n",
              "      <td>0.0</td>\n",
              "      <td>1.0</td>\n",
              "      <td>56.840000</td>\n",
              "      <td>99.333336</td>\n",
              "      <td>0</td>\n",
              "    </tr>\n",
              "    <tr>\n",
              "      <th>4</th>\n",
              "      <td>5.456747</td>\n",
              "      <td>5.339741</td>\n",
              "      <td>10.555724</td>\n",
              "      <td>6.008429</td>\n",
              "      <td>1.0</td>\n",
              "      <td>0.0</td>\n",
              "      <td>0.0</td>\n",
              "      <td>1.0</td>\n",
              "      <td>67.849998</td>\n",
              "      <td>56.933334</td>\n",
              "      <td>1</td>\n",
              "    </tr>\n",
              "    <tr>\n",
              "      <th>7</th>\n",
              "      <td>5.916774</td>\n",
              "      <td>5.289600</td>\n",
              "      <td>12.981733</td>\n",
              "      <td>6.009507</td>\n",
              "      <td>0.0</td>\n",
              "      <td>1.0</td>\n",
              "      <td>0.0</td>\n",
              "      <td>1.0</td>\n",
              "      <td>64.610001</td>\n",
              "      <td>143.000000</td>\n",
              "      <td>1</td>\n",
              "    </tr>\n",
              "    <tr>\n",
              "      <th>8</th>\n",
              "      <td>5.865741</td>\n",
              "      <td>6.738176</td>\n",
              "      <td>10.850687</td>\n",
              "      <td>5.596416</td>\n",
              "      <td>0.0</td>\n",
              "      <td>0.0</td>\n",
              "      <td>0.0</td>\n",
              "      <td>1.0</td>\n",
              "      <td>68.209999</td>\n",
              "      <td>150.600006</td>\n",
              "      <td>1</td>\n",
              "    </tr>\n",
              "    <tr>\n",
              "      <th>11</th>\n",
              "      <td>6.333529</td>\n",
              "      <td>5.170259</td>\n",
              "      <td>8.742507</td>\n",
              "      <td>6.500216</td>\n",
              "      <td>0.0</td>\n",
              "      <td>1.0</td>\n",
              "      <td>1.0</td>\n",
              "      <td>0.0</td>\n",
              "      <td>55.020000</td>\n",
              "      <td>141.166672</td>\n",
              "      <td>0</td>\n",
              "    </tr>\n",
              "  </tbody>\n",
              "</table>\n",
              "</div>\n",
              "    <div class=\"colab-df-buttons\">\n",
              "\n",
              "  <div class=\"colab-df-container\">\n",
              "    <button class=\"colab-df-convert\" onclick=\"convertToInteractive('df-62abb541-8f49-4074-9ce1-a910f6691bff')\"\n",
              "            title=\"Convert this dataframe to an interactive table.\"\n",
              "            style=\"display:none;\">\n",
              "\n",
              "  <svg xmlns=\"http://www.w3.org/2000/svg\" height=\"24px\" viewBox=\"0 -960 960 960\">\n",
              "    <path d=\"M120-120v-720h720v720H120Zm60-500h600v-160H180v160Zm220 220h160v-160H400v160Zm0 220h160v-160H400v160ZM180-400h160v-160H180v160Zm440 0h160v-160H620v160ZM180-180h160v-160H180v160Zm440 0h160v-160H620v160Z\"/>\n",
              "  </svg>\n",
              "    </button>\n",
              "\n",
              "  <style>\n",
              "    .colab-df-container {\n",
              "      display:flex;\n",
              "      gap: 12px;\n",
              "    }\n",
              "\n",
              "    .colab-df-convert {\n",
              "      background-color: #E8F0FE;\n",
              "      border: none;\n",
              "      border-radius: 50%;\n",
              "      cursor: pointer;\n",
              "      display: none;\n",
              "      fill: #1967D2;\n",
              "      height: 32px;\n",
              "      padding: 0 0 0 0;\n",
              "      width: 32px;\n",
              "    }\n",
              "\n",
              "    .colab-df-convert:hover {\n",
              "      background-color: #E2EBFA;\n",
              "      box-shadow: 0px 1px 2px rgba(60, 64, 67, 0.3), 0px 1px 3px 1px rgba(60, 64, 67, 0.15);\n",
              "      fill: #174EA6;\n",
              "    }\n",
              "\n",
              "    .colab-df-buttons div {\n",
              "      margin-bottom: 4px;\n",
              "    }\n",
              "\n",
              "    [theme=dark] .colab-df-convert {\n",
              "      background-color: #3B4455;\n",
              "      fill: #D2E3FC;\n",
              "    }\n",
              "\n",
              "    [theme=dark] .colab-df-convert:hover {\n",
              "      background-color: #434B5C;\n",
              "      box-shadow: 0px 1px 3px 1px rgba(0, 0, 0, 0.15);\n",
              "      filter: drop-shadow(0px 1px 2px rgba(0, 0, 0, 0.3));\n",
              "      fill: #FFFFFF;\n",
              "    }\n",
              "  </style>\n",
              "\n",
              "    <script>\n",
              "      const buttonEl =\n",
              "        document.querySelector('#df-62abb541-8f49-4074-9ce1-a910f6691bff button.colab-df-convert');\n",
              "      buttonEl.style.display =\n",
              "        google.colab.kernel.accessAllowed ? 'block' : 'none';\n",
              "\n",
              "      async function convertToInteractive(key) {\n",
              "        const element = document.querySelector('#df-62abb541-8f49-4074-9ce1-a910f6691bff');\n",
              "        const dataTable =\n",
              "          await google.colab.kernel.invokeFunction('convertToInteractive',\n",
              "                                                    [key], {});\n",
              "        if (!dataTable) return;\n",
              "\n",
              "        const docLinkHtml = 'Like what you see? Visit the ' +\n",
              "          '<a target=\"_blank\" href=https://colab.research.google.com/notebooks/data_table.ipynb>data table notebook</a>'\n",
              "          + ' to learn more about interactive tables.';\n",
              "        element.innerHTML = '';\n",
              "        dataTable['output_type'] = 'display_data';\n",
              "        await google.colab.output.renderOutput(dataTable, element);\n",
              "        const docLink = document.createElement('div');\n",
              "        docLink.innerHTML = docLinkHtml;\n",
              "        element.appendChild(docLink);\n",
              "      }\n",
              "    </script>\n",
              "  </div>\n",
              "\n",
              "\n",
              "<div id=\"df-45020618-6740-43b3-9bed-a41377c22513\">\n",
              "  <button class=\"colab-df-quickchart\" onclick=\"quickchart('df-45020618-6740-43b3-9bed-a41377c22513')\"\n",
              "            title=\"Suggest charts.\"\n",
              "            style=\"display:none;\">\n",
              "\n",
              "<svg xmlns=\"http://www.w3.org/2000/svg\" height=\"24px\"viewBox=\"0 0 24 24\"\n",
              "     width=\"24px\">\n",
              "    <g>\n",
              "        <path d=\"M19 3H5c-1.1 0-2 .9-2 2v14c0 1.1.9 2 2 2h14c1.1 0 2-.9 2-2V5c0-1.1-.9-2-2-2zM9 17H7v-7h2v7zm4 0h-2V7h2v10zm4 0h-2v-4h2v4z\"/>\n",
              "    </g>\n",
              "</svg>\n",
              "  </button>\n",
              "\n",
              "<style>\n",
              "  .colab-df-quickchart {\n",
              "      --bg-color: #E8F0FE;\n",
              "      --fill-color: #1967D2;\n",
              "      --hover-bg-color: #E2EBFA;\n",
              "      --hover-fill-color: #174EA6;\n",
              "      --disabled-fill-color: #AAA;\n",
              "      --disabled-bg-color: #DDD;\n",
              "  }\n",
              "\n",
              "  [theme=dark] .colab-df-quickchart {\n",
              "      --bg-color: #3B4455;\n",
              "      --fill-color: #D2E3FC;\n",
              "      --hover-bg-color: #434B5C;\n",
              "      --hover-fill-color: #FFFFFF;\n",
              "      --disabled-bg-color: #3B4455;\n",
              "      --disabled-fill-color: #666;\n",
              "  }\n",
              "\n",
              "  .colab-df-quickchart {\n",
              "    background-color: var(--bg-color);\n",
              "    border: none;\n",
              "    border-radius: 50%;\n",
              "    cursor: pointer;\n",
              "    display: none;\n",
              "    fill: var(--fill-color);\n",
              "    height: 32px;\n",
              "    padding: 0;\n",
              "    width: 32px;\n",
              "  }\n",
              "\n",
              "  .colab-df-quickchart:hover {\n",
              "    background-color: var(--hover-bg-color);\n",
              "    box-shadow: 0 1px 2px rgba(60, 64, 67, 0.3), 0 1px 3px 1px rgba(60, 64, 67, 0.15);\n",
              "    fill: var(--button-hover-fill-color);\n",
              "  }\n",
              "\n",
              "  .colab-df-quickchart-complete:disabled,\n",
              "  .colab-df-quickchart-complete:disabled:hover {\n",
              "    background-color: var(--disabled-bg-color);\n",
              "    fill: var(--disabled-fill-color);\n",
              "    box-shadow: none;\n",
              "  }\n",
              "\n",
              "  .colab-df-spinner {\n",
              "    border: 2px solid var(--fill-color);\n",
              "    border-color: transparent;\n",
              "    border-bottom-color: var(--fill-color);\n",
              "    animation:\n",
              "      spin 1s steps(1) infinite;\n",
              "  }\n",
              "\n",
              "  @keyframes spin {\n",
              "    0% {\n",
              "      border-color: transparent;\n",
              "      border-bottom-color: var(--fill-color);\n",
              "      border-left-color: var(--fill-color);\n",
              "    }\n",
              "    20% {\n",
              "      border-color: transparent;\n",
              "      border-left-color: var(--fill-color);\n",
              "      border-top-color: var(--fill-color);\n",
              "    }\n",
              "    30% {\n",
              "      border-color: transparent;\n",
              "      border-left-color: var(--fill-color);\n",
              "      border-top-color: var(--fill-color);\n",
              "      border-right-color: var(--fill-color);\n",
              "    }\n",
              "    40% {\n",
              "      border-color: transparent;\n",
              "      border-right-color: var(--fill-color);\n",
              "      border-top-color: var(--fill-color);\n",
              "    }\n",
              "    60% {\n",
              "      border-color: transparent;\n",
              "      border-right-color: var(--fill-color);\n",
              "    }\n",
              "    80% {\n",
              "      border-color: transparent;\n",
              "      border-right-color: var(--fill-color);\n",
              "      border-bottom-color: var(--fill-color);\n",
              "    }\n",
              "    90% {\n",
              "      border-color: transparent;\n",
              "      border-bottom-color: var(--fill-color);\n",
              "    }\n",
              "  }\n",
              "</style>\n",
              "\n",
              "  <script>\n",
              "    async function quickchart(key) {\n",
              "      const quickchartButtonEl =\n",
              "        document.querySelector('#' + key + ' button');\n",
              "      quickchartButtonEl.disabled = true;  // To prevent multiple clicks.\n",
              "      quickchartButtonEl.classList.add('colab-df-spinner');\n",
              "      try {\n",
              "        const charts = await google.colab.kernel.invokeFunction(\n",
              "            'suggestCharts', [key], {});\n",
              "      } catch (error) {\n",
              "        console.error('Error during call to suggestCharts:', error);\n",
              "      }\n",
              "      quickchartButtonEl.classList.remove('colab-df-spinner');\n",
              "      quickchartButtonEl.classList.add('colab-df-quickchart-complete');\n",
              "    }\n",
              "    (() => {\n",
              "      let quickchartButtonEl =\n",
              "        document.querySelector('#df-45020618-6740-43b3-9bed-a41377c22513 button');\n",
              "      quickchartButtonEl.style.display =\n",
              "        google.colab.kernel.accessAllowed ? 'block' : 'none';\n",
              "    })();\n",
              "  </script>\n",
              "</div>\n",
              "    </div>\n",
              "  </div>\n"
            ]
          },
          "metadata": {},
          "execution_count": 38
        }
      ]
    },
    {
      "cell_type": "markdown",
      "source": [
        "#**Transformación de Características**\n",
        "\n",
        "Tenemos una serie de variables, además de las duracionese indicadores de eventos.\n",
        "\n",
        "Estandarizamos las variables numéricas y mantenemos las variables binarias. Las variables deben ser de tipo 'float32', ya que es necesario para el correcto funcionamiento de pytorch. Dependiendo del dataset seleccionado, debemos ajustar el número y tipo de variables, para su estandarización."
      ],
      "metadata": {
        "id": "oHu4uzTxqUSy"
      }
    },
    {
      "cell_type": "code",
      "source": [
        "cols_standardize = ['x0', 'x1', 'x2', 'x3', 'x8']\n",
        "cols_leave = ['x4', 'x5', 'x6', 'x7']\n",
        "\n",
        "standardize = [([col], StandardScaler()) for col in cols_standardize]\n",
        "leave = [(col, None) for col in cols_leave]\n",
        "\n",
        "x_mapper = DataFrameMapper(standardize + leave)"
      ],
      "metadata": {
        "id": "zIWZwkQ2qlGx"
      },
      "execution_count": null,
      "outputs": []
    },
    {
      "cell_type": "code",
      "source": [
        "x_train = x_mapper.fit_transform(df_train).astype('float32')\n",
        "x_val = x_mapper.transform(df_val).astype('float32')\n",
        "x_test = x_mapper.transform(df_test).astype('float32')"
      ],
      "metadata": {
        "id": "vmNSPkVsqnTv"
      },
      "execution_count": null,
      "outputs": []
    },
    {
      "cell_type": "markdown",
      "source": [
        "No es necesario hacer transformación para las etiquetas."
      ],
      "metadata": {
        "id": "erQNJ1Buqrhf"
      }
    },
    {
      "cell_type": "code",
      "source": [
        "labtrans = CoxTime.label_transform()\n",
        "get_target = lambda df: (df['duration'].values, df['event'].values)\n",
        "y_train = labtrans.fit_transform(*get_target(df_train))\n",
        "y_val = labtrans.transform(*get_target(df_val))\n",
        "durations_test, events_test = get_target(df_test)\n",
        "val = tt.tuplefy(x_val, y_val)"
      ],
      "metadata": {
        "id": "eIKEakcVqsQq"
      },
      "execution_count": null,
      "outputs": []
    },
    {
      "cell_type": "code",
      "source": [
        "val.shapes()"
      ],
      "metadata": {
        "colab": {
          "base_uri": "https://localhost:8080/"
        },
        "id": "clkIre7bqvTD",
        "outputId": "293c8988-e3dc-4ec1-956e-108716a7f4e9"
      },
      "execution_count": null,
      "outputs": [
        {
          "output_type": "execute_result",
          "data": {
            "text/plain": [
              "((305, 9), ((305,), (305,)))"
            ]
          },
          "metadata": {},
          "execution_count": 42
        }
      ]
    },
    {
      "cell_type": "markdown",
      "source": [
        "Con **TupleTree**, podemos repetir fácilmente el conjunto de datos de validación varias veces. Esto será útil para reducir la varianza de la pérdida de validación, ya que la pérdida de validación de CoxCC no es determinista."
      ],
      "metadata": {
        "id": "ZfgufKZKvklA"
      }
    },
    {
      "cell_type": "code",
      "source": [
        "val.repeat(2).cat().shapes()"
      ],
      "metadata": {
        "colab": {
          "base_uri": "https://localhost:8080/"
        },
        "id": "NNbdHpRurRTf",
        "outputId": "c946e963-09b8-4cd6-e122-182a551d0056"
      },
      "execution_count": null,
      "outputs": [
        {
          "output_type": "execute_result",
          "data": {
            "text/plain": [
              "((610, 9), ((610,), (610,)))"
            ]
          },
          "metadata": {},
          "execution_count": 43
        }
      ]
    },
    {
      "cell_type": "markdown",
      "source": [
        "#**Neural Net**\n",
        "\n",
        "Creamos un MLP simple (Perceptrón Multicapa) con dos capas ocultas, activación ReLU, Batch Norm y Dropout. La red requerida por Cox-Time es distinta de las implementadas en el resto de métodos, ya que también requiere el tiempo y un argumento de entrada adicional. Por ello, se ha utilizado la clase **MLPVanillaCoxTime**, una versión adecuada para **tt.practical.MLPVanilla**. Esta clase también elimina las opciones de configuración **out_features** en 1 y no tenemos **output_bias.**"
      ],
      "metadata": {
        "id": "Q4h8hsiorSgw"
      }
    },
    {
      "cell_type": "code",
      "source": [
        "in_features = x_train.shape[1]\n",
        "num_nodes = [32, 32]\n",
        "batch_norm = True\n",
        "dropout = 0.1\n",
        "net = MLPVanillaCoxTime(in_features, num_nodes, batch_norm, dropout)"
      ],
      "metadata": {
        "id": "ebE6wxtxrmuG"
      },
      "execution_count": null,
      "outputs": []
    },
    {
      "cell_type": "markdown",
      "source": [
        "#**Entrenamos el Modelo**\n",
        "Para entrenar el modelo, es necesario definir un optimizador. En este caso se emplea **tt.optim** para la selección, ya que tiene alguna funcionalidad adicional. Se utiliza el optimizador Adam, pero en lugar de fijar una tasa de aprendizaje, usaremos el esquema propuesto por [Smith 2017]((https://arxiv.org/pdf/1506.01186.pdf), para encontar una tase de aprendizaje adecuada con **model.lr_finder**."
      ],
      "metadata": {
        "id": "ktGcjzP3rp66"
      }
    },
    {
      "cell_type": "markdown",
      "source": [
        "También configuramos labtrans, que conecta los nodos de salida de la red y la transformación de etiqueta de las duraciones. Esto sólo es útil para la predicción y no afecta el procedimiento de entrenamiento."
      ],
      "metadata": {
        "id": "AkzS1bWujAQ8"
      }
    },
    {
      "cell_type": "code",
      "source": [
        "model = CoxTime(net, tt.optim.Adam, labtrans=labtrans)"
      ],
      "metadata": {
        "id": "1DhYMVHPsUNW"
      },
      "execution_count": null,
      "outputs": []
    },
    {
      "cell_type": "code",
      "source": [
        "batch_size = 256\n",
        "lrfinder = model.lr_finder(x_train, y_train, batch_size, tolerance=2)\n",
        "_ = lrfinder.plot()"
      ],
      "metadata": {
        "colab": {
          "base_uri": "https://localhost:8080/",
          "height": 489
        },
        "id": "FIMWEXvnsW4l",
        "outputId": "39571374-978e-48f4-b1b4-544b199219ce"
      },
      "execution_count": null,
      "outputs": [
        {
          "output_type": "stream",
          "name": "stderr",
          "text": [
            "/usr/local/lib/python3.10/dist-packages/pycox/models/data.py:38: FutureWarning: iteritems is deprecated and will be removed in a future version. Use .items instead.\n",
            "  for ix, t in keys.iteritems():\n"
          ]
        },
        {
          "output_type": "display_data",
          "data": {
            "text/plain": [
              "<Figure size 640x480 with 1 Axes>"
            ],
            "image/png": "[encoded data removed]"
          },
          "metadata": {}
        }
      ]
    },
    {
      "cell_type": "code",
      "source": [
        "lrfinder.get_best_lr()"
      ],
      "metadata": {
        "colab": {
          "base_uri": "https://localhost:8080/"
        },
        "id": "iGDSolnqsaH1",
        "outputId": "2cfcb0f9-d703-4082-9813-bfe6f01b332d"
      },
      "execution_count": null,
      "outputs": [
        {
          "output_type": "execute_result",
          "data": {
            "text/plain": [
              "0.07390722033525823"
            ]
          },
          "metadata": {},
          "execution_count": 47
        }
      ]
    },
    {
      "cell_type": "markdown",
      "source": [
        "A menudo, esta tasa de aprendizaje es elevada, por lo que configuramos la tasa de aprendizaje manualmente en 0.01"
      ],
      "metadata": {
        "id": "PfZp76VoseJq"
      }
    },
    {
      "cell_type": "code",
      "source": [
        "model.optimizer.set_lr(0.01)"
      ],
      "metadata": {
        "id": "J0ddq3xPsfgA"
      },
      "execution_count": null,
      "outputs": []
    },
    {
      "cell_type": "markdown",
      "source": [
        "Se incluye **EarlyStopping**, para detener el entrenamiento cuando la función de pérdida de validación deja de mejorar. Después del entrenamiento, esta devolución de llamada también cargará el modelo con mejor desempeño en términos de pérdida de validación."
      ],
      "metadata": {
        "id": "DJ_6ic0qshhW"
      }
    },
    {
      "cell_type": "code",
      "source": [
        "epochs = 512\n",
        "callbacks = [tt.callbacks.EarlyStopping()]\n",
        "verbose = True"
      ],
      "metadata": {
        "id": "e3oU1GaBslLK"
      },
      "execution_count": null,
      "outputs": []
    },
    {
      "cell_type": "code",
      "source": [
        "%%time\n",
        "log = model.fit(x_train, y_train, batch_size, epochs, callbacks, verbose,\n",
        "                val_data=val.repeat(10).cat())"
      ],
      "metadata": {
        "colab": {
          "base_uri": "https://localhost:8080/"
        },
        "id": "Zauu8WoCs0Rx",
        "outputId": "8668744f-e682-465b-8db3-cfb6a000093b"
      },
      "execution_count": null,
      "outputs": [
        {
          "output_type": "stream",
          "name": "stderr",
          "text": [
            "/usr/local/lib/python3.10/dist-packages/pycox/models/data.py:38: FutureWarning: iteritems is deprecated and will be removed in a future version. Use .items instead.\n",
            "  for ix, t in keys.iteritems():\n",
            "/usr/local/lib/python3.10/dist-packages/pycox/models/data.py:38: FutureWarning: iteritems is deprecated and will be removed in a future version. Use .items instead.\n",
            "  for ix, t in keys.iteritems():\n"
          ]
        },
        {
          "output_type": "stream",
          "name": "stdout",
          "text": [
            "0:\t[0s / 0s],\t\ttrain_loss: 0.7123,\tval_loss: 0.6337\n",
            "1:\t[0s / 0s],\t\ttrain_loss: 0.6495,\tval_loss: 0.6151\n",
            "2:\t[0s / 0s],\t\ttrain_loss: 0.6330,\tval_loss: 0.6052\n",
            "3:\t[0s / 0s],\t\ttrain_loss: 0.6060,\tval_loss: 0.5898\n",
            "4:\t[0s / 0s],\t\ttrain_loss: 0.6199,\tval_loss: 0.6011\n",
            "5:\t[0s / 0s],\t\ttrain_loss: 0.6023,\tval_loss: 0.6115\n",
            "6:\t[0s / 0s],\t\ttrain_loss: 0.5939,\tval_loss: 0.6004\n",
            "7:\t[0s / 0s],\t\ttrain_loss: 0.5916,\tval_loss: 0.5938\n",
            "8:\t[0s / 0s],\t\ttrain_loss: 0.5757,\tval_loss: 0.5961\n",
            "9:\t[0s / 0s],\t\ttrain_loss: 0.5749,\tval_loss: 0.5851\n",
            "10:\t[0s / 0s],\t\ttrain_loss: 0.5996,\tval_loss: 0.6023\n",
            "11:\t[0s / 0s],\t\ttrain_loss: 0.5872,\tval_loss: 0.5836\n",
            "12:\t[0s / 0s],\t\ttrain_loss: 0.6037,\tval_loss: 0.5748\n",
            "13:\t[0s / 0s],\t\ttrain_loss: 0.5911,\tval_loss: 0.5840\n",
            "14:\t[0s / 0s],\t\ttrain_loss: 0.5940,\tval_loss: 0.5931\n",
            "15:\t[0s / 0s],\t\ttrain_loss: 0.5937,\tval_loss: 0.5895\n",
            "16:\t[0s / 0s],\t\ttrain_loss: 0.5852,\tval_loss: 0.5886\n",
            "17:\t[0s / 0s],\t\ttrain_loss: 0.5640,\tval_loss: 0.5914\n",
            "18:\t[0s / 0s],\t\ttrain_loss: 0.5937,\tval_loss: 0.5835\n",
            "19:\t[0s / 0s],\t\ttrain_loss: 0.5932,\tval_loss: 0.5830\n",
            "20:\t[0s / 0s],\t\ttrain_loss: 0.5452,\tval_loss: 0.5706\n",
            "21:\t[0s / 0s],\t\ttrain_loss: 0.5609,\tval_loss: 0.5663\n",
            "22:\t[0s / 0s],\t\ttrain_loss: 0.5680,\tval_loss: 0.5770\n",
            "23:\t[0s / 0s],\t\ttrain_loss: 0.5677,\tval_loss: 0.5909\n",
            "24:\t[0s / 0s],\t\ttrain_loss: 0.5385,\tval_loss: 0.6049\n",
            "25:\t[0s / 0s],\t\ttrain_loss: 0.5642,\tval_loss: 0.5859\n",
            "26:\t[0s / 1s],\t\ttrain_loss: 0.5671,\tval_loss: 0.5779\n",
            "27:\t[0s / 1s],\t\ttrain_loss: 0.5594,\tval_loss: 0.5811\n",
            "28:\t[0s / 1s],\t\ttrain_loss: 0.5447,\tval_loss: 0.5693\n",
            "29:\t[0s / 1s],\t\ttrain_loss: 0.5587,\tval_loss: 0.5767\n",
            "30:\t[0s / 1s],\t\ttrain_loss: 0.5421,\tval_loss: 0.5856\n",
            "31:\t[0s / 1s],\t\ttrain_loss: 0.5587,\tval_loss: 0.5707\n",
            "CPU times: user 1.23 s, sys: 20.6 ms, total: 1.25 s\n",
            "Wall time: 1.31 s\n"
          ]
        }
      ]
    },
    {
      "cell_type": "code",
      "source": [
        "_ = log.plot()"
      ],
      "metadata": {
        "colab": {
          "base_uri": "https://localhost:8080/",
          "height": 430
        },
        "id": "NZt3atZws2I6",
        "outputId": "485ee094-c41f-47e5-a9c1-ba4c36088605"
      },
      "execution_count": null,
      "outputs": [
        {
          "output_type": "display_data",
          "data": {
            "text/plain": [
              "<Figure size 640x480 with 1 Axes>"
            ],
            "image/png": "[encoded data removed]"
          },
          "metadata": {}
        }
      ]
    },
    {
      "cell_type": "code",
      "source": [
        "model.partial_log_likelihood(*val).mean()"
      ],
      "metadata": {
        "colab": {
          "base_uri": "https://localhost:8080/"
        },
        "id": "ifxbXhIRs60_",
        "outputId": "6127d9e9-06d9-4063-ff50-755f85ee02d7"
      },
      "execution_count": null,
      "outputs": [
        {
          "output_type": "execute_result",
          "data": {
            "text/plain": [
              "-4.7639484"
            ]
          },
          "metadata": {},
          "execution_count": 52
        }
      ]
    },
    {
      "cell_type": "markdown",
      "source": [
        "#**Predicción**\n",
        "Para la validación, es necesario obtener estimaciones de supervivenia para el conjunto de prueba. Esto se puede hacer con **model.predict_surv**, que nos devuelve una serie de estimaciones de supervivencia o con **model.predict_surv_df**, que devuelve las estimaciones de supervivencia como un marco de datos.\n",
        "\n",
        "Sin embargo, como Cox-Time es semiparamétrico, primero debemos obtener las estimaciones de riesgo de referencia no paramétricas con **compute_baseline_hazards**. Tenga en cuenta que para grandes conjuntos de datos, el argumento **sample**, se puede utilizar para estimar el riesgo de referencia en un subconjunto."
      ],
      "metadata": {
        "id": "3C58ERCOs8J4"
      }
    },
    {
      "cell_type": "code",
      "source": [
        "_ = model.compute_baseline_hazards()"
      ],
      "metadata": {
        "id": "cr_m0g_auTLV",
        "colab": {
          "base_uri": "https://localhost:8080/"
        },
        "outputId": "3d490627-4fff-4fc6-b535-bec3562ec0e6"
      },
      "execution_count": null,
      "outputs": [
        {
          "output_type": "stream",
          "name": "stderr",
          "text": [
            "/usr/local/lib/python3.10/dist-packages/pycox/models/cox_time.py:97: FutureWarning: iteritems is deprecated and will be removed in a future version. Use .items instead.\n",
            "  at_risk_sum = (pd.Series([compute_expg_at_risk(ix, t) for ix, t in times.iteritems()],\n"
          ]
        }
      ]
    },
    {
      "cell_type": "code",
      "source": [
        "surv = model.predict_surv_df(x_test)"
      ],
      "metadata": {
        "id": "o1C0tDnBuWen"
      },
      "execution_count": null,
      "outputs": []
    },
    {
      "cell_type": "code",
      "source": [
        "surv.iloc[:, :5].plot()\n",
        "plt.ylabel('S(t | x)')\n",
        "_ = plt.xlabel('Time')"
      ],
      "metadata": {
        "colab": {
          "base_uri": "https://localhost:8080/",
          "height": 449
        },
        "id": "EOjXwFt4uYBq",
        "outputId": "9ad24898-1b38-4ff4-cc95-0554acbfd3c9"
      },
      "execution_count": null,
      "outputs": [
        {
          "output_type": "display_data",
          "data": {
            "text/plain": [
              "<Figure size 640x480 with 1 Axes>"
            ],
            "image/png": "[encoded data removed]"
          },
          "metadata": {}
        }
      ]
    },
    {
      "cell_type": "markdown",
      "source": [
        "\n",
        "Gracias a que configuramos labtrans en CoxTime, obtenemos la escala de tiempo correcta para nuestras predicciones."
      ],
      "metadata": {
        "id": "X0x5vKYTjzjc"
      }
    },
    {
      "cell_type": "markdown",
      "source": [
        "# **Evaluación**\n",
        "\n",
        "Podemos usar la clase **EvalSurv** para evaluar la concordancia, la puntuación de Brier y la Verosimilitud Binomial. La configuración **censor_surv='km'** significa que estimamos la distribución de censura por **Kaplan-Meier** en el conjunto de prueba."
      ],
      "metadata": {
        "id": "Zy4KyoF4ucuF"
      }
    },
    {
      "cell_type": "code",
      "source": [
        "ev = EvalSurv(surv, durations_test, events_test, censor_surv='km')"
      ],
      "metadata": {
        "colab": {
          "base_uri": "https://localhost:8080/"
        },
        "id": "P4BMcd3fufoO",
        "outputId": "b5a317e6-ff41-4cf3-efb3-8032271fcc30"
      },
      "execution_count": null,
      "outputs": [
        {
          "output_type": "stream",
          "name": "stderr",
          "text": [
            "/usr/local/lib/python3.10/dist-packages/pycox/evaluation/eval_surv.py:36: FutureWarning: is_monotonic is deprecated and will be removed in a future version. Use is_monotonic_increasing instead.\n",
            "  assert pd.Series(self.index_surv).is_monotonic\n"
          ]
        }
      ]
    },
    {
      "cell_type": "code",
      "source": [
        "ev.concordance_td()"
      ],
      "metadata": {
        "colab": {
          "base_uri": "https://localhost:8080/"
        },
        "id": "d5smqvb5ujJl",
        "outputId": "7f5ab112-793a-4f12-aa18-8d67bda8e177"
      },
      "execution_count": null,
      "outputs": [
        {
          "output_type": "execute_result",
          "data": {
            "text/plain": [
              "0.6570151249268823"
            ]
          },
          "metadata": {},
          "execution_count": 57
        }
      ]
    },
    {
      "cell_type": "code",
      "source": [
        "time_grid = np.linspace(durations_test.min(), durations_test.max(), 100)\n",
        "_ = ev.brier_score(time_grid).plot()"
      ],
      "metadata": {
        "colab": {
          "base_uri": "https://localhost:8080/",
          "height": 430
        },
        "id": "9SWS8sxaupIH",
        "outputId": "3b0d58e9-e539-45c1-d607-1fce14053ea2"
      },
      "execution_count": null,
      "outputs": [
        {
          "output_type": "display_data",
          "data": {
            "text/plain": [
              "<Figure size 640x480 with 1 Axes>"
            ],
            "image/png": "[encoded data removed]"
          },
          "metadata": {}
        }
      ]
    },
    {
      "cell_type": "code",
      "source": [
        "ev.integrated_brier_score(time_grid)"
      ],
      "metadata": {
        "colab": {
          "base_uri": "https://localhost:8080/"
        },
        "id": "rYTgqb5DusZb",
        "outputId": "e635b420-6e75-4ef5-fa0f-8677b603ba4a"
      },
      "execution_count": null,
      "outputs": [
        {
          "output_type": "execute_result",
          "data": {
            "text/plain": [
              "0.16095606321453457"
            ]
          },
          "metadata": {},
          "execution_count": 59
        }
      ]
    },
    {
      "cell_type": "code",
      "source": [
        "ev.integrated_nbll(time_grid)"
      ],
      "metadata": {
        "colab": {
          "base_uri": "https://localhost:8080/"
        },
        "id": "pIJWaHxKutRf",
        "outputId": "06eaa6b1-0ed8-450d-c3f3-f946dd572795"
      },
      "execution_count": null,
      "outputs": [
        {
          "output_type": "execute_result",
          "data": {
            "text/plain": [
              "0.5097339867772206"
            ]
          },
          "metadata": {},
          "execution_count": 60
        }
      ]
    }
  ]
}