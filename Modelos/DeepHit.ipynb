{
  "nbformat": 4,
  "nbformat_minor": 0,
  "metadata": {
    "colab": {
      "provenance": [],
      "authorship_tag": "ABX9TyMyORNBCCxzdMkYlfDfrw/6",
      "include_colab_link": true
    },
    "kernelspec": {
      "name": "python3",
      "display_name": "Python 3"
    },
    "language_info": {
      "name": "python"
    }
  },
  "cells": [
    {
      "cell_type": "markdown",
      "metadata": {
        "id": "view-in-github",
        "colab_type": "text"
      },
      "source": [
        "<a href=\"https://colab.research.google.com/github/NOKOGIDO/Time-to-Event/blob/main/Modelos/DeepHit.ipynb\" target=\"_parent\"><img src=\"https://colab.research.google.com/assets/colab-badge.svg\" alt=\"Open In Colab\"/></a>"
      ]
    },
    {
      "cell_type": "markdown",
      "source": [
        "# **DeepHit Método -  Single Event**\n",
        "A continuación se muestra un ejemplo de cómo podemos entrenar un modelo **DeepHit** cuando solo tenemos un tipo de evento."
      ],
      "metadata": {
        "id": "01v2lNeOaQzT"
      }
    },
    {
      "cell_type": "code",
      "source": [
        "!git clone https://github.com/havakv/pycox.git"
      ],
      "metadata": {
        "id": "BerOlvZbOUBZ",
        "colab": {
          "base_uri": "https://localhost:8080/"
        },
        "outputId": "899d00b0-82fd-4b11-e396-456e56f8b96b"
      },
      "execution_count": null,
      "outputs": [
        {
          "output_type": "stream",
          "name": "stdout",
          "text": [
            "fatal: destination path 'pycox' already exists and is not an empty directory.\n"
          ]
        }
      ]
    },
    {
      "cell_type": "code",
      "execution_count": null,
      "metadata": {
        "id": "xymmdR2QNBug",
        "colab": {
          "base_uri": "https://localhost:8080/"
        },
        "outputId": "c2c482ff-45ec-4d78-f42b-2265bda18a0f"
      },
      "outputs": [
        {
          "output_type": "stream",
          "name": "stdout",
          "text": [
            "Requirement already satisfied: sklearn-pandas in /usr/local/lib/python3.10/dist-packages (2.2.0)\n",
            "Requirement already satisfied: scikit-learn>=0.23.0 in /usr/local/lib/python3.10/dist-packages (from sklearn-pandas) (1.2.2)\n",
            "Requirement already satisfied: scipy>=1.5.1 in /usr/local/lib/python3.10/dist-packages (from sklearn-pandas) (1.10.1)\n",
            "Requirement already satisfied: pandas>=1.1.4 in /usr/local/lib/python3.10/dist-packages (from sklearn-pandas) (1.5.3)\n",
            "Requirement already satisfied: numpy>=1.18.1 in /usr/local/lib/python3.10/dist-packages (from sklearn-pandas) (1.23.5)\n",
            "Requirement already satisfied: python-dateutil>=2.8.1 in /usr/local/lib/python3.10/dist-packages (from pandas>=1.1.4->sklearn-pandas) (2.8.2)\n",
            "Requirement already satisfied: pytz>=2020.1 in /usr/local/lib/python3.10/dist-packages (from pandas>=1.1.4->sklearn-pandas) (2023.3.post1)\n",
            "Requirement already satisfied: joblib>=1.1.1 in /usr/local/lib/python3.10/dist-packages (from scikit-learn>=0.23.0->sklearn-pandas) (1.3.2)\n",
            "Requirement already satisfied: threadpoolctl>=2.0.0 in /usr/local/lib/python3.10/dist-packages (from scikit-learn>=0.23.0->sklearn-pandas) (3.2.0)\n",
            "Requirement already satisfied: six>=1.5 in /usr/local/lib/python3.10/dist-packages (from python-dateutil>=2.8.1->pandas>=1.1.4->sklearn-pandas) (1.16.0)\n"
          ]
        }
      ],
      "source": [
        "! pip install sklearn-pandas"
      ]
    },
    {
      "cell_type": "code",
      "source": [
        "import numpy as np\n",
        "import matplotlib.pyplot as plt\n",
        "\n",
        "# For preprocessing\n",
        "from sklearn.preprocessing import StandardScaler\n",
        "from sklearn_pandas import DataFrameMapper"
      ],
      "metadata": {
        "id": "64dGp0qYNXTv"
      },
      "execution_count": null,
      "outputs": []
    },
    {
      "cell_type": "code",
      "source": [
        "!pip install pycox"
      ],
      "metadata": {
        "id": "1FnJsV2UN7OC",
        "colab": {
          "base_uri": "https://localhost:8080/"
        },
        "outputId": "b78517a9-8249-4e35-c45b-d24e41cb5819"
      },
      "execution_count": null,
      "outputs": [
        {
          "output_type": "stream",
          "name": "stdout",
          "text": [
            "Requirement already satisfied: pycox in /usr/local/lib/python3.10/dist-packages (0.2.3)\n",
            "Requirement already satisfied: torchtuples>=0.2.0 in /usr/local/lib/python3.10/dist-packages (from pycox) (0.2.2)\n",
            "Requirement already satisfied: feather-format>=0.4.0 in /usr/local/lib/python3.10/dist-packages (from pycox) (0.4.1)\n",
            "Requirement already satisfied: h5py>=2.9.0 in /usr/local/lib/python3.10/dist-packages (from pycox) (3.9.0)\n",
            "Requirement already satisfied: numba>=0.44 in /usr/local/lib/python3.10/dist-packages (from pycox) (0.56.4)\n",
            "Requirement already satisfied: scikit-learn>=0.21.2 in /usr/local/lib/python3.10/dist-packages (from pycox) (1.2.2)\n",
            "Requirement already satisfied: requests>=2.22.0 in /usr/local/lib/python3.10/dist-packages (from pycox) (2.31.0)\n",
            "Requirement already satisfied: py7zr>=0.11.3 in /usr/local/lib/python3.10/dist-packages (from pycox) (0.20.6)\n",
            "Requirement already satisfied: pyarrow>=0.4.0 in /usr/local/lib/python3.10/dist-packages (from feather-format>=0.4.0->pycox) (9.0.0)\n",
            "Requirement already satisfied: numpy>=1.17.3 in /usr/local/lib/python3.10/dist-packages (from h5py>=2.9.0->pycox) (1.23.5)\n",
            "Requirement already satisfied: llvmlite<0.40,>=0.39.0dev0 in /usr/local/lib/python3.10/dist-packages (from numba>=0.44->pycox) (0.39.1)\n",
            "Requirement already satisfied: setuptools in /usr/local/lib/python3.10/dist-packages (from numba>=0.44->pycox) (67.7.2)\n",
            "Requirement already satisfied: texttable in /usr/local/lib/python3.10/dist-packages (from py7zr>=0.11.3->pycox) (1.6.7)\n",
            "Requirement already satisfied: pycryptodomex>=3.6.6 in /usr/local/lib/python3.10/dist-packages (from py7zr>=0.11.3->pycox) (3.18.0)\n",
            "Requirement already satisfied: pyzstd>=0.14.4 in /usr/local/lib/python3.10/dist-packages (from py7zr>=0.11.3->pycox) (0.15.9)\n",
            "Requirement already satisfied: pyppmd<1.1.0,>=0.18.1 in /usr/local/lib/python3.10/dist-packages (from py7zr>=0.11.3->pycox) (1.0.0)\n",
            "Requirement already satisfied: pybcj>=0.6.0 in /usr/local/lib/python3.10/dist-packages (from py7zr>=0.11.3->pycox) (1.0.1)\n",
            "Requirement already satisfied: multivolumefile>=0.2.3 in /usr/local/lib/python3.10/dist-packages (from py7zr>=0.11.3->pycox) (0.2.3)\n",
            "Requirement already satisfied: brotli>=1.0.9 in /usr/local/lib/python3.10/dist-packages (from py7zr>=0.11.3->pycox) (1.1.0)\n",
            "Requirement already satisfied: inflate64>=0.3.1 in /usr/local/lib/python3.10/dist-packages (from py7zr>=0.11.3->pycox) (0.3.1)\n",
            "Requirement already satisfied: psutil in /usr/local/lib/python3.10/dist-packages (from py7zr>=0.11.3->pycox) (5.9.5)\n",
            "Requirement already satisfied: charset-normalizer<4,>=2 in /usr/local/lib/python3.10/dist-packages (from requests>=2.22.0->pycox) (3.2.0)\n",
            "Requirement already satisfied: idna<4,>=2.5 in /usr/local/lib/python3.10/dist-packages (from requests>=2.22.0->pycox) (3.4)\n",
            "Requirement already satisfied: urllib3<3,>=1.21.1 in /usr/local/lib/python3.10/dist-packages (from requests>=2.22.0->pycox) (2.0.4)\n",
            "Requirement already satisfied: certifi>=2017.4.17 in /usr/local/lib/python3.10/dist-packages (from requests>=2.22.0->pycox) (2023.7.22)\n",
            "Requirement already satisfied: scipy>=1.3.2 in /usr/local/lib/python3.10/dist-packages (from scikit-learn>=0.21.2->pycox) (1.10.1)\n",
            "Requirement already satisfied: joblib>=1.1.1 in /usr/local/lib/python3.10/dist-packages (from scikit-learn>=0.21.2->pycox) (1.3.2)\n",
            "Requirement already satisfied: threadpoolctl>=2.0.0 in /usr/local/lib/python3.10/dist-packages (from scikit-learn>=0.21.2->pycox) (3.2.0)\n",
            "Requirement already satisfied: pandas>=0.24.2 in /usr/local/lib/python3.10/dist-packages (from torchtuples>=0.2.0->pycox) (1.5.3)\n",
            "Requirement already satisfied: matplotlib>=3.0.3 in /usr/local/lib/python3.10/dist-packages (from torchtuples>=0.2.0->pycox) (3.7.1)\n",
            "Requirement already satisfied: contourpy>=1.0.1 in /usr/local/lib/python3.10/dist-packages (from matplotlib>=3.0.3->torchtuples>=0.2.0->pycox) (1.1.0)\n",
            "Requirement already satisfied: cycler>=0.10 in /usr/local/lib/python3.10/dist-packages (from matplotlib>=3.0.3->torchtuples>=0.2.0->pycox) (0.11.0)\n",
            "Requirement already satisfied: fonttools>=4.22.0 in /usr/local/lib/python3.10/dist-packages (from matplotlib>=3.0.3->torchtuples>=0.2.0->pycox) (4.42.1)\n",
            "Requirement already satisfied: kiwisolver>=1.0.1 in /usr/local/lib/python3.10/dist-packages (from matplotlib>=3.0.3->torchtuples>=0.2.0->pycox) (1.4.5)\n",
            "Requirement already satisfied: packaging>=20.0 in /usr/local/lib/python3.10/dist-packages (from matplotlib>=3.0.3->torchtuples>=0.2.0->pycox) (23.1)\n",
            "Requirement already satisfied: pillow>=6.2.0 in /usr/local/lib/python3.10/dist-packages (from matplotlib>=3.0.3->torchtuples>=0.2.0->pycox) (9.4.0)\n",
            "Requirement already satisfied: pyparsing>=2.3.1 in /usr/local/lib/python3.10/dist-packages (from matplotlib>=3.0.3->torchtuples>=0.2.0->pycox) (3.1.1)\n",
            "Requirement already satisfied: python-dateutil>=2.7 in /usr/local/lib/python3.10/dist-packages (from matplotlib>=3.0.3->torchtuples>=0.2.0->pycox) (2.8.2)\n",
            "Requirement already satisfied: pytz>=2020.1 in /usr/local/lib/python3.10/dist-packages (from pandas>=0.24.2->torchtuples>=0.2.0->pycox) (2023.3.post1)\n",
            "Requirement already satisfied: six>=1.5 in /usr/local/lib/python3.10/dist-packages (from python-dateutil>=2.7->matplotlib>=3.0.3->torchtuples>=0.2.0->pycox) (1.16.0)\n"
          ]
        }
      ]
    },
    {
      "cell_type": "markdown",
      "source": [
        "Pycox está construido sobre PyTorch y torchtuples, esto nos ayuda a entrenar redes neuronales con menos código repetitivo."
      ],
      "metadata": {
        "id": "4OedvZ7ebZcc"
      }
    },
    {
      "cell_type": "code",
      "source": [
        "import torch # For building the networks\n",
        "import torchtuples as tt # Some useful functions"
      ],
      "metadata": {
        "id": "xsYutB_7NnsV"
      },
      "execution_count": null,
      "outputs": []
    },
    {
      "cell_type": "markdown",
      "source": [
        "Importamos el dataset, el modelo DeepHitSingle y EvalSurv que simplifica el procedimiento de evaluación."
      ],
      "metadata": {
        "id": "-0weVV6jbjZQ"
      }
    },
    {
      "cell_type": "code",
      "source": [
        "from pycox.datasets import metabric\n",
        "#from pycox.datasets import support\n",
        "#from pycox.datasets import gbsg\n",
        "from pycox.models import DeepHitSingle\n",
        "from pycox.evaluation import EvalSurv"
      ],
      "metadata": {
        "id": "siqTyEsSOiMy"
      },
      "execution_count": null,
      "outputs": []
    },
    {
      "cell_type": "code",
      "source": [
        "# We also set some seeds to make this reproducable.\n",
        "# Note that on gpu, there is still some randomness.\n",
        "np.random.seed(2587)\n",
        "_ = torch.manual_seed(258)"
      ],
      "metadata": {
        "id": "4YSg57NZO28J"
      },
      "execution_count": null,
      "outputs": []
    },
    {
      "cell_type": "markdown",
      "source": [
        "# **Dataset**\n",
        "Cargamos el dataset METABRIC (en este apartado podemos cambiar para seleccionar el dataset Rot. & GBSG o el dataset SUPPORT) y hacemos las particiones de entrenamiento, test y validación. La columna **duration** proporciona los tiempos observados y la columna **event** contiene indicadores de si la observación es un **evento** (1) o una **observación censurada** (0)."
      ],
      "metadata": {
        "id": "DZ7aibO7bteO"
      }
    },
    {
      "cell_type": "code",
      "source": [
        "df_train = metabric.read_df()\n",
        "df_test = df_train.sample(frac=0.2)\n",
        "df_train = df_train.drop(df_test.index)\n",
        "df_val = df_train.sample(frac=0.2)\n",
        "df_train = df_train.drop(df_val.index)"
      ],
      "metadata": {
        "id": "LWPi2ZTqO4LX",
        "colab": {
          "base_uri": "https://localhost:8080/"
        },
        "outputId": "87fc2c69-bd4f-4fdc-d828-4838150566db"
      },
      "execution_count": null,
      "outputs": [
        {
          "output_type": "stream",
          "name": "stdout",
          "text": [
            "Dataset 'metabric' not locally available. Downloading...\n",
            "Done\n"
          ]
        }
      ]
    },
    {
      "cell_type": "code",
      "source": [
        "df_train.head()"
      ],
      "metadata": {
        "colab": {
          "base_uri": "https://localhost:8080/",
          "height": 206
        },
        "id": "UQZylN1ZPMhV",
        "outputId": "bbb102ed-2c90-4a98-8963-5cbd8a1456ee"
      },
      "execution_count": null,
      "outputs": [
        {
          "output_type": "execute_result",
          "data": {
            "text/plain": [
              "          x0        x1         x2        x3   x4   x5   x6   x7         x8  \\\n",
              "0   5.603834  7.811392  10.797988  5.967607  1.0  1.0  0.0  1.0  56.840000   \n",
              "4   5.456747  5.339741  10.555724  6.008429  1.0  0.0  0.0  1.0  67.849998   \n",
              "7   5.916774  5.289600  12.981733  6.009507  0.0  1.0  0.0  1.0  64.610001   \n",
              "8   5.865741  6.738176  10.850687  5.596416  0.0  0.0  0.0  1.0  68.209999   \n",
              "11  6.333529  5.170259   8.742507  6.500216  0.0  1.0  1.0  0.0  55.020000   \n",
              "\n",
              "      duration  event  \n",
              "0    99.333336      0  \n",
              "4    56.933334      1  \n",
              "7   143.000000      1  \n",
              "8   150.600006      1  \n",
              "11  141.166672      0  "
            ],
            "text/html": [
              "\n",
              "  <div id=\"df-d75e539d-7511-42a0-b882-e45627922da1\" class=\"colab-df-container\">\n",
              "    <div>\n",
              "<style scoped>\n",
              "    .dataframe tbody tr th:only-of-type {\n",
              "        vertical-align: middle;\n",
              "    }\n",
              "\n",
              "    .dataframe tbody tr th {\n",
              "        vertical-align: top;\n",
              "    }\n",
              "\n",
              "    .dataframe thead th {\n",
              "        text-align: right;\n",
              "    }\n",
              "</style>\n",
              "<table border=\"1\" class=\"dataframe\">\n",
              "  <thead>\n",
              "    <tr style=\"text-align: right;\">\n",
              "      <th></th>\n",
              "      <th>x0</th>\n",
              "      <th>x1</th>\n",
              "      <th>x2</th>\n",
              "      <th>x3</th>\n",
              "      <th>x4</th>\n",
              "      <th>x5</th>\n",
              "      <th>x6</th>\n",
              "      <th>x7</th>\n",
              "      <th>x8</th>\n",
              "      <th>duration</th>\n",
              "      <th>event</th>\n",
              "    </tr>\n",
              "  </thead>\n",
              "  <tbody>\n",
              "    <tr>\n",
              "      <th>0</th>\n",
              "      <td>5.603834</td>\n",
              "      <td>7.811392</td>\n",
              "      <td>10.797988</td>\n",
              "      <td>5.967607</td>\n",
              "      <td>1.0</td>\n",
              "      <td>1.0</td>\n",
              "      <td>0.0</td>\n",
              "      <td>1.0</td>\n",
              "      <td>56.840000</td>\n",
              "      <td>99.333336</td>\n",
              "      <td>0</td>\n",
              "    </tr>\n",
              "    <tr>\n",
              "      <th>4</th>\n",
              "      <td>5.456747</td>\n",
              "      <td>5.339741</td>\n",
              "      <td>10.555724</td>\n",
              "      <td>6.008429</td>\n",
              "      <td>1.0</td>\n",
              "      <td>0.0</td>\n",
              "      <td>0.0</td>\n",
              "      <td>1.0</td>\n",
              "      <td>67.849998</td>\n",
              "      <td>56.933334</td>\n",
              "      <td>1</td>\n",
              "    </tr>\n",
              "    <tr>\n",
              "      <th>7</th>\n",
              "      <td>5.916774</td>\n",
              "      <td>5.289600</td>\n",
              "      <td>12.981733</td>\n",
              "      <td>6.009507</td>\n",
              "      <td>0.0</td>\n",
              "      <td>1.0</td>\n",
              "      <td>0.0</td>\n",
              "      <td>1.0</td>\n",
              "      <td>64.610001</td>\n",
              "      <td>143.000000</td>\n",
              "      <td>1</td>\n",
              "    </tr>\n",
              "    <tr>\n",
              "      <th>8</th>\n",
              "      <td>5.865741</td>\n",
              "      <td>6.738176</td>\n",
              "      <td>10.850687</td>\n",
              "      <td>5.596416</td>\n",
              "      <td>0.0</td>\n",
              "      <td>0.0</td>\n",
              "      <td>0.0</td>\n",
              "      <td>1.0</td>\n",
              "      <td>68.209999</td>\n",
              "      <td>150.600006</td>\n",
              "      <td>1</td>\n",
              "    </tr>\n",
              "    <tr>\n",
              "      <th>11</th>\n",
              "      <td>6.333529</td>\n",
              "      <td>5.170259</td>\n",
              "      <td>8.742507</td>\n",
              "      <td>6.500216</td>\n",
              "      <td>0.0</td>\n",
              "      <td>1.0</td>\n",
              "      <td>1.0</td>\n",
              "      <td>0.0</td>\n",
              "      <td>55.020000</td>\n",
              "      <td>141.166672</td>\n",
              "      <td>0</td>\n",
              "    </tr>\n",
              "  </tbody>\n",
              "</table>\n",
              "</div>\n",
              "    <div class=\"colab-df-buttons\">\n",
              "\n",
              "  <div class=\"colab-df-container\">\n",
              "    <button class=\"colab-df-convert\" onclick=\"convertToInteractive('df-d75e539d-7511-42a0-b882-e45627922da1')\"\n",
              "            title=\"Convert this dataframe to an interactive table.\"\n",
              "            style=\"display:none;\">\n",
              "\n",
              "  <svg xmlns=\"http://www.w3.org/2000/svg\" height=\"24px\" viewBox=\"0 -960 960 960\">\n",
              "    <path d=\"M120-120v-720h720v720H120Zm60-500h600v-160H180v160Zm220 220h160v-160H400v160Zm0 220h160v-160H400v160ZM180-400h160v-160H180v160Zm440 0h160v-160H620v160ZM180-180h160v-160H180v160Zm440 0h160v-160H620v160Z\"/>\n",
              "  </svg>\n",
              "    </button>\n",
              "\n",
              "  <style>\n",
              "    .colab-df-container {\n",
              "      display:flex;\n",
              "      gap: 12px;\n",
              "    }\n",
              "\n",
              "    .colab-df-convert {\n",
              "      background-color: #E8F0FE;\n",
              "      border: none;\n",
              "      border-radius: 50%;\n",
              "      cursor: pointer;\n",
              "      display: none;\n",
              "      fill: #1967D2;\n",
              "      height: 32px;\n",
              "      padding: 0 0 0 0;\n",
              "      width: 32px;\n",
              "    }\n",
              "\n",
              "    .colab-df-convert:hover {\n",
              "      background-color: #E2EBFA;\n",
              "      box-shadow: 0px 1px 2px rgba(60, 64, 67, 0.3), 0px 1px 3px 1px rgba(60, 64, 67, 0.15);\n",
              "      fill: #174EA6;\n",
              "    }\n",
              "\n",
              "    .colab-df-buttons div {\n",
              "      margin-bottom: 4px;\n",
              "    }\n",
              "\n",
              "    [theme=dark] .colab-df-convert {\n",
              "      background-color: #3B4455;\n",
              "      fill: #D2E3FC;\n",
              "    }\n",
              "\n",
              "    [theme=dark] .colab-df-convert:hover {\n",
              "      background-color: #434B5C;\n",
              "      box-shadow: 0px 1px 3px 1px rgba(0, 0, 0, 0.15);\n",
              "      filter: drop-shadow(0px 1px 2px rgba(0, 0, 0, 0.3));\n",
              "      fill: #FFFFFF;\n",
              "    }\n",
              "  </style>\n",
              "\n",
              "    <script>\n",
              "      const buttonEl =\n",
              "        document.querySelector('#df-d75e539d-7511-42a0-b882-e45627922da1 button.colab-df-convert');\n",
              "      buttonEl.style.display =\n",
              "        google.colab.kernel.accessAllowed ? 'block' : 'none';\n",
              "\n",
              "      async function convertToInteractive(key) {\n",
              "        const element = document.querySelector('#df-d75e539d-7511-42a0-b882-e45627922da1');\n",
              "        const dataTable =\n",
              "          await google.colab.kernel.invokeFunction('convertToInteractive',\n",
              "                                                    [key], {});\n",
              "        if (!dataTable) return;\n",
              "\n",
              "        const docLinkHtml = 'Like what you see? Visit the ' +\n",
              "          '<a target=\"_blank\" href=https://colab.research.google.com/notebooks/data_table.ipynb>data table notebook</a>'\n",
              "          + ' to learn more about interactive tables.';\n",
              "        element.innerHTML = '';\n",
              "        dataTable['output_type'] = 'display_data';\n",
              "        await google.colab.output.renderOutput(dataTable, element);\n",
              "        const docLink = document.createElement('div');\n",
              "        docLink.innerHTML = docLinkHtml;\n",
              "        element.appendChild(docLink);\n",
              "      }\n",
              "    </script>\n",
              "  </div>\n",
              "\n",
              "\n",
              "<div id=\"df-f9ff64eb-0d2a-45e3-afea-754006683055\">\n",
              "  <button class=\"colab-df-quickchart\" onclick=\"quickchart('df-f9ff64eb-0d2a-45e3-afea-754006683055')\"\n",
              "            title=\"Suggest charts.\"\n",
              "            style=\"display:none;\">\n",
              "\n",
              "<svg xmlns=\"http://www.w3.org/2000/svg\" height=\"24px\"viewBox=\"0 0 24 24\"\n",
              "     width=\"24px\">\n",
              "    <g>\n",
              "        <path d=\"M19 3H5c-1.1 0-2 .9-2 2v14c0 1.1.9 2 2 2h14c1.1 0 2-.9 2-2V5c0-1.1-.9-2-2-2zM9 17H7v-7h2v7zm4 0h-2V7h2v10zm4 0h-2v-4h2v4z\"/>\n",
              "    </g>\n",
              "</svg>\n",
              "  </button>\n",
              "\n",
              "<style>\n",
              "  .colab-df-quickchart {\n",
              "      --bg-color: #E8F0FE;\n",
              "      --fill-color: #1967D2;\n",
              "      --hover-bg-color: #E2EBFA;\n",
              "      --hover-fill-color: #174EA6;\n",
              "      --disabled-fill-color: #AAA;\n",
              "      --disabled-bg-color: #DDD;\n",
              "  }\n",
              "\n",
              "  [theme=dark] .colab-df-quickchart {\n",
              "      --bg-color: #3B4455;\n",
              "      --fill-color: #D2E3FC;\n",
              "      --hover-bg-color: #434B5C;\n",
              "      --hover-fill-color: #FFFFFF;\n",
              "      --disabled-bg-color: #3B4455;\n",
              "      --disabled-fill-color: #666;\n",
              "  }\n",
              "\n",
              "  .colab-df-quickchart {\n",
              "    background-color: var(--bg-color);\n",
              "    border: none;\n",
              "    border-radius: 50%;\n",
              "    cursor: pointer;\n",
              "    display: none;\n",
              "    fill: var(--fill-color);\n",
              "    height: 32px;\n",
              "    padding: 0;\n",
              "    width: 32px;\n",
              "  }\n",
              "\n",
              "  .colab-df-quickchart:hover {\n",
              "    background-color: var(--hover-bg-color);\n",
              "    box-shadow: 0 1px 2px rgba(60, 64, 67, 0.3), 0 1px 3px 1px rgba(60, 64, 67, 0.15);\n",
              "    fill: var(--button-hover-fill-color);\n",
              "  }\n",
              "\n",
              "  .colab-df-quickchart-complete:disabled,\n",
              "  .colab-df-quickchart-complete:disabled:hover {\n",
              "    background-color: var(--disabled-bg-color);\n",
              "    fill: var(--disabled-fill-color);\n",
              "    box-shadow: none;\n",
              "  }\n",
              "\n",
              "  .colab-df-spinner {\n",
              "    border: 2px solid var(--fill-color);\n",
              "    border-color: transparent;\n",
              "    border-bottom-color: var(--fill-color);\n",
              "    animation:\n",
              "      spin 1s steps(1) infinite;\n",
              "  }\n",
              "\n",
              "  @keyframes spin {\n",
              "    0% {\n",
              "      border-color: transparent;\n",
              "      border-bottom-color: var(--fill-color);\n",
              "      border-left-color: var(--fill-color);\n",
              "    }\n",
              "    20% {\n",
              "      border-color: transparent;\n",
              "      border-left-color: var(--fill-color);\n",
              "      border-top-color: var(--fill-color);\n",
              "    }\n",
              "    30% {\n",
              "      border-color: transparent;\n",
              "      border-left-color: var(--fill-color);\n",
              "      border-top-color: var(--fill-color);\n",
              "      border-right-color: var(--fill-color);\n",
              "    }\n",
              "    40% {\n",
              "      border-color: transparent;\n",
              "      border-right-color: var(--fill-color);\n",
              "      border-top-color: var(--fill-color);\n",
              "    }\n",
              "    60% {\n",
              "      border-color: transparent;\n",
              "      border-right-color: var(--fill-color);\n",
              "    }\n",
              "    80% {\n",
              "      border-color: transparent;\n",
              "      border-right-color: var(--fill-color);\n",
              "      border-bottom-color: var(--fill-color);\n",
              "    }\n",
              "    90% {\n",
              "      border-color: transparent;\n",
              "      border-bottom-color: var(--fill-color);\n",
              "    }\n",
              "  }\n",
              "</style>\n",
              "\n",
              "  <script>\n",
              "    async function quickchart(key) {\n",
              "      const quickchartButtonEl =\n",
              "        document.querySelector('#' + key + ' button');\n",
              "      quickchartButtonEl.disabled = true;  // To prevent multiple clicks.\n",
              "      quickchartButtonEl.classList.add('colab-df-spinner');\n",
              "      try {\n",
              "        const charts = await google.colab.kernel.invokeFunction(\n",
              "            'suggestCharts', [key], {});\n",
              "      } catch (error) {\n",
              "        console.error('Error during call to suggestCharts:', error);\n",
              "      }\n",
              "      quickchartButtonEl.classList.remove('colab-df-spinner');\n",
              "      quickchartButtonEl.classList.add('colab-df-quickchart-complete');\n",
              "    }\n",
              "    (() => {\n",
              "      let quickchartButtonEl =\n",
              "        document.querySelector('#df-f9ff64eb-0d2a-45e3-afea-754006683055 button');\n",
              "      quickchartButtonEl.style.display =\n",
              "        google.colab.kernel.accessAllowed ? 'block' : 'none';\n",
              "    })();\n",
              "  </script>\n",
              "</div>\n",
              "    </div>\n",
              "  </div>\n"
            ]
          },
          "metadata": {},
          "execution_count": 17
        }
      ]
    },
    {
      "cell_type": "markdown",
      "source": [
        "# **Transformación de Características**\n",
        "Tenemos una serie de variables, además de las duraciones e indicadores de eventos.\n",
        "\n",
        "Estandarizamos las variables numéricas y mantenemos las variables binarias. Las variables deben ser de tipo 'float32', ya que es necesario para el correcto funcionamiento de pytorch. Dependiendo del dataset seleccionado, debemos ajustar el número y tipo de variables, para su estandarización.\n",
        "\n",
        "Utilizamos **sklearn_pandas.DataFrameMapper** para hacer un mapeo de características."
      ],
      "metadata": {
        "id": "LtAif2HFcBY7"
      }
    },
    {
      "cell_type": "code",
      "source": [
        "cols_standardize = ['x0', 'x1', 'x2', 'x3', 'x8']\n",
        "cols_leave = ['x4', 'x5', 'x6', 'x7']\n",
        "\n",
        "standardize = [([col], StandardScaler()) for col in cols_standardize]\n",
        "leave = [(col, None) for col in cols_leave]\n",
        "\n",
        "x_mapper = DataFrameMapper(standardize + leave)"
      ],
      "metadata": {
        "id": "NuWkDtc9PR0D"
      },
      "execution_count": null,
      "outputs": []
    },
    {
      "cell_type": "code",
      "source": [
        "x_train = x_mapper.fit_transform(df_train).astype('float32')\n",
        "x_val = x_mapper.transform(df_val).astype('float32')\n",
        "x_test = x_mapper.transform(df_test).astype('float32')"
      ],
      "metadata": {
        "id": "gwabUXNwPTE9"
      },
      "execution_count": null,
      "outputs": []
    },
    {
      "cell_type": "markdown",
      "source": [
        "# **Transformación de etiquetas**\n",
        "Los métodos de supervivencia requieren transformaciones de etiquetas individuales, por lo que hemos incluido una **label_transform**, esta es solo una abreviatura de la clase **pycox.preprocessing.label_transforms.LabTransDiscreteTime.**\n",
        "\n",
        "DeepHit es un método de tiempo discreto, por ello requiere definir intervalos de tiempo mediante discretización. Empleamos **num_durations** que define el tamaño de la cuadrícula de discretización (equidistante), lo que significa que nuestra red tendrá **num_durations** nodos de salida."
      ],
      "metadata": {
        "id": "RI6zMCJVcPB8"
      }
    },
    {
      "cell_type": "code",
      "source": [
        "num_durations = 10\n",
        "\n",
        "labtrans = DeepHitSingle.label_transform(num_durations)\n",
        "\n",
        "get_target = lambda df: (df['duration'].values, df['event'].values)\n",
        "y_train = labtrans.fit_transform(*get_target(df_train))\n",
        "y_val = labtrans.transform(*get_target(df_val))\n",
        "\n",
        "train = (x_train, y_train)\n",
        "val = (x_val, y_val)\n",
        "\n",
        "# We don't need to transform the test labels\n",
        "durations_test, events_test = get_target(df_test)"
      ],
      "metadata": {
        "id": "gJlN4OUzPYAo"
      },
      "execution_count": null,
      "outputs": []
    },
    {
      "cell_type": "code",
      "source": [
        "type(labtrans)"
      ],
      "metadata": {
        "colab": {
          "base_uri": "https://localhost:8080/"
        },
        "id": "RJzqK2lYPZTK",
        "outputId": "1672b476-cac9-4690-f464-d1af47f3b735"
      },
      "execution_count": null,
      "outputs": [
        {
          "output_type": "execute_result",
          "data": {
            "text/plain": [
              "pycox.preprocessing.label_transforms.LabTransDiscreteTime"
            ]
          },
          "metadata": {},
          "execution_count": 21
        }
      ]
    },
    {
      "cell_type": "markdown",
      "source": [
        "# **Neural net**\n",
        "Creamos una MLP simple (Perceptrón Multicapa) con dos capas ocultas, activación ReLU, y **num_nodes** nodos de salida. También utilizamos **normalización batch** y **dropout** entre capas."
      ],
      "metadata": {
        "id": "4XhGPjV3eagF"
      }
    },
    {
      "cell_type": "code",
      "source": [
        "in_features = x_train.shape[1]\n",
        "num_nodes = [32, 32]\n",
        "out_features = labtrans.out_features\n",
        "batch_norm = True\n",
        "dropout = 0.1\n",
        "\n",
        "net = tt.practical.MLPVanilla(in_features, num_nodes, out_features, batch_norm, dropout)"
      ],
      "metadata": {
        "id": "GauwpGniPnSd"
      },
      "execution_count": null,
      "outputs": []
    },
    {
      "cell_type": "markdown",
      "source": [
        "# **Entrenamiento del modelo**\n",
        "Para entrenar el modelo, es necesario definir un optimizador. En este caso se emplea **tt.optim** para la selección, ya que tiene alguna funcionalidad adicional. Se utiliza el optimizador **Adam**, pero en lugar de elegir una tasa de aprendizaje, usaremos el esquema propuesto por [Smith 2017](https://arxiv.org/pdf/1506.01186.pdf) para encontrar una tasa de aprendizaje adecuada con **model.lr_finder.** Puede consultar [esta publicación](https://towardsdatascience.com/finding-good-learning-rate-and-the-one-cycle-policy-7159fe1db5d6?gi=df913b00c279) para obtener una explicación más detallada.\n",
        "\n",
        "También configuramos el índice de duración que conecta los nodos de salida de la red con los tiempos de discretización. Esto sólo es útil para la predicción y no afecta el procedimiento de entrenamiento.\n",
        "\n",
        "DeepHit tiene una pérdida que es una combinación de una probabilidad logarítmica negativa y una pérdida de clasificación. **Alpha** es un parámetro que controla la combinación lineal entre los dos y **sigma** es un parámetro utilizado por la pérdida de clasificación. **Alpha = 1** da una pérdida que solo contiene la probabilidad logarítmica negativa y **alpha = 0** da una pérdida de clasificación pura. Tenga en cuenta que esto es diferente al documento original."
      ],
      "metadata": {
        "id": "jqrKWFzHeuZ5"
      }
    },
    {
      "cell_type": "code",
      "source": [
        "model = DeepHitSingle(net, tt.optim.Adam, alpha=0.2, sigma=0.1, duration_index=labtrans.cuts)"
      ],
      "metadata": {
        "id": "9I0wtnsYPsOF"
      },
      "execution_count": null,
      "outputs": []
    },
    {
      "cell_type": "code",
      "source": [
        "batch_size = 256\n",
        "lr_finder = model.lr_finder(x_train, y_train, batch_size, tolerance=3)\n",
        "_ = lr_finder.plot()"
      ],
      "metadata": {
        "id": "SbOBjU9uPvz8",
        "colab": {
          "base_uri": "https://localhost:8080/",
          "height": 457
        },
        "outputId": "27cc9fef-699d-4792-f221-711728cdd7ea"
      },
      "execution_count": null,
      "outputs": [
        {
          "output_type": "display_data",
          "data": {
            "text/plain": [
              "<Figure size 640x480 with 1 Axes>"
            ],
            "image/png": "[encoded data removed]"
          },
          "metadata": {}
        }
      ]
    },
    {
      "cell_type": "code",
      "source": [
        "lr_finder.get_best_lr()"
      ],
      "metadata": {
        "colab": {
          "base_uri": "https://localhost:8080/"
        },
        "id": "WNCpk7i6iRnJ",
        "outputId": "4491572f-7516-462c-bb81-0cec349d73a2"
      },
      "execution_count": null,
      "outputs": [
        {
          "output_type": "execute_result",
          "data": {
            "text/plain": [
              "0.0613590727341321"
            ]
          },
          "metadata": {},
          "execution_count": 25
        }
      ]
    },
    {
      "cell_type": "markdown",
      "source": [
        "A menudo, esta tasa de aprendizaje es algo elevada, por lo que la configuramos manualmente en 0,01."
      ],
      "metadata": {
        "id": "TMri5ZSeiwkp"
      }
    },
    {
      "cell_type": "code",
      "source": [
        "model.optimizer.set_lr(0.01)"
      ],
      "metadata": {
        "id": "GoNaxsZXi3KR"
      },
      "execution_count": null,
      "outputs": []
    },
    {
      "cell_type": "markdown",
      "source": [
        "También se incluye **EarlyStoping** para detener el entrenamiento cuando la función de pérdida de validación deje de mejorar. Después del entrenamiento, se cargará el modelo con mejor rendimiento en términos de función de pérdida de la validación."
      ],
      "metadata": {
        "id": "hTSus5uBjB1B"
      }
    },
    {
      "cell_type": "code",
      "source": [
        "epochs = 100\n",
        "callbacks = [tt.callbacks.EarlyStopping()]\n",
        "log = model.fit(x_train, y_train, batch_size, epochs, callbacks, val_data=val)"
      ],
      "metadata": {
        "id": "7HXCGwlDQS3R",
        "colab": {
          "base_uri": "https://localhost:8080/"
        },
        "outputId": "2d858c87-074c-4666-f7d4-9f3b068f07ae"
      },
      "execution_count": null,
      "outputs": [
        {
          "output_type": "stream",
          "name": "stdout",
          "text": [
            "0:\t[0s / 0s],\t\ttrain_loss: 0.6693,\tval_loss: 0.5756\n",
            "1:\t[0s / 0s],\t\ttrain_loss: 0.5962,\tval_loss: 0.5429\n",
            "2:\t[0s / 0s],\t\ttrain_loss: 0.5652,\tval_loss: 0.5279\n",
            "3:\t[0s / 0s],\t\ttrain_loss: 0.5516,\tval_loss: 0.5184\n",
            "4:\t[0s / 0s],\t\ttrain_loss: 0.5432,\tval_loss: 0.5163\n",
            "5:\t[0s / 0s],\t\ttrain_loss: 0.5309,\tval_loss: 0.5192\n",
            "6:\t[0s / 0s],\t\ttrain_loss: 0.5244,\tval_loss: 0.5187\n",
            "7:\t[0s / 0s],\t\ttrain_loss: 0.5093,\tval_loss: 0.5169\n",
            "8:\t[0s / 0s],\t\ttrain_loss: 0.5107,\tval_loss: 0.5160\n",
            "9:\t[0s / 0s],\t\ttrain_loss: 0.5087,\tval_loss: 0.5112\n",
            "10:\t[0s / 0s],\t\ttrain_loss: 0.5084,\tval_loss: 0.5085\n",
            "11:\t[0s / 0s],\t\ttrain_loss: 0.4970,\tval_loss: 0.5105\n",
            "12:\t[0s / 0s],\t\ttrain_loss: 0.4971,\tval_loss: 0.5095\n",
            "13:\t[0s / 1s],\t\ttrain_loss: 0.4987,\tval_loss: 0.5072\n",
            "14:\t[0s / 1s],\t\ttrain_loss: 0.4986,\tval_loss: 0.5027\n",
            "15:\t[0s / 1s],\t\ttrain_loss: 0.4851,\tval_loss: 0.5070\n",
            "16:\t[0s / 1s],\t\ttrain_loss: 0.4905,\tval_loss: 0.5078\n",
            "17:\t[0s / 1s],\t\ttrain_loss: 0.4846,\tval_loss: 0.5091\n",
            "18:\t[0s / 1s],\t\ttrain_loss: 0.4926,\tval_loss: 0.5044\n",
            "19:\t[0s / 1s],\t\ttrain_loss: 0.4828,\tval_loss: 0.5046\n",
            "20:\t[0s / 1s],\t\ttrain_loss: 0.4847,\tval_loss: 0.5037\n",
            "21:\t[0s / 1s],\t\ttrain_loss: 0.4753,\tval_loss: 0.5081\n",
            "22:\t[0s / 1s],\t\ttrain_loss: 0.4867,\tval_loss: 0.5062\n",
            "23:\t[0s / 1s],\t\ttrain_loss: 0.4729,\tval_loss: 0.5037\n",
            "24:\t[0s / 1s],\t\ttrain_loss: 0.4783,\tval_loss: 0.5043\n"
          ]
        }
      ]
    },
    {
      "cell_type": "code",
      "source": [
        "_ = log.plot()"
      ],
      "metadata": {
        "colab": {
          "base_uri": "https://localhost:8080/",
          "height": 430
        },
        "id": "nRQcU_28jXdA",
        "outputId": "721644bc-6caf-4010-a33e-2e14695e084d"
      },
      "execution_count": null,
      "outputs": [
        {
          "output_type": "display_data",
          "data": {
            "text/plain": [
              "<Figure size 640x480 with 1 Axes>"
            ],
            "image/png": "[encoded data removed]"
          },
          "metadata": {}
        }
      ]
    },
    {
      "cell_type": "markdown",
      "source": [
        "# **Predicción**\n",
        "Para la evaluación, primero necesitamos obtener estimaciones de supervivencia para el conjunto de prueba. Esto se puede hacer con **model.predict_surv** que devuelve una serie de estimaciones de supervivencia, o con **model.predict_surv_df** que devuelve las estimaciones de supervivencia como un marco de datos."
      ],
      "metadata": {
        "id": "fYUgMWENjZkH"
      }
    },
    {
      "cell_type": "code",
      "source": [
        "surv = model.predict_surv_df(x_test)"
      ],
      "metadata": {
        "id": "stbP3qU0jtz3"
      },
      "execution_count": null,
      "outputs": []
    },
    {
      "cell_type": "markdown",
      "source": [
        "Podemos trazar las estimaciones de supervivencia para los primeros 5 individuos. Tenga en cuenta que la escala de tiempo es correcta porque hemos configurado **model.duration_index** para que sean los puntos de la cuadrícula. Sin embargo, solo hemos definido las estimaciones de supervivencia en los 10 tiempos en nuestra cuadrícula de discretización, por lo que las estimaciones de supervivencia son una función escalonada."
      ],
      "metadata": {
        "id": "xm0cdj8gj88G"
      }
    },
    {
      "cell_type": "code",
      "source": [
        "surv.iloc[:, :5].plot(drawstyle='steps-post')\n",
        "plt.ylabel('S(t | x)')\n",
        "_ = plt.xlabel('Time')"
      ],
      "metadata": {
        "colab": {
          "base_uri": "https://localhost:8080/",
          "height": 450
        },
        "id": "LERR4LlRQij1",
        "outputId": "cdeb6f67-e043-4a7d-a224-62f06a94aa2a"
      },
      "execution_count": null,
      "outputs": [
        {
          "output_type": "display_data",
          "data": {
            "text/plain": [
              "<Figure size 640x480 with 1 Axes>"
            ],
            "image/png": "[encoded data removed]"
          },
          "metadata": {}
        }
      ]
    },
    {
      "cell_type": "markdown",
      "source": [
        "Por lo tanto, a menudo es beneficioso interpolar las estimaciones de supervivencia, consulte [este artículo](https://arxiv.org/abs/1910.06724) para una discusión. La interpolación lineal (interpolación de densidad constante) se puede realizar con el método de **interpolate**. También debemos elegir con cuántos puntos queremos reemplazar cada punto de la cuadrícula. En este caso usaremos 10."
      ],
      "metadata": {
        "id": "_9xGW7uUkS2B"
      }
    },
    {
      "cell_type": "code",
      "source": [
        "surv = model.interpolate(10).predict_surv_df(x_test)"
      ],
      "metadata": {
        "id": "KQPW87dbQw3w"
      },
      "execution_count": null,
      "outputs": []
    },
    {
      "cell_type": "code",
      "source": [
        "surv.iloc[:, :5].plot(drawstyle='steps-post')\n",
        "plt.ylabel('S(t | x)')\n",
        "_ = plt.xlabel('Time')"
      ],
      "metadata": {
        "colab": {
          "base_uri": "https://localhost:8080/",
          "height": 450
        },
        "id": "clqC5CfvQ5p5",
        "outputId": "cfd49a4a-efff-4516-8d90-29bfbfafa216"
      },
      "execution_count": null,
      "outputs": [
        {
          "output_type": "display_data",
          "data": {
            "text/plain": [
              "<Figure size 640x480 with 1 Axes>"
            ],
            "image/png": "[encoded data removed]"
          },
          "metadata": {}
        }
      ]
    },
    {
      "cell_type": "markdown",
      "source": [
        "# **Evaluación**\n",
        "La clase **EvalSurv** contiene algunos criterios de evaluación útiles para la predicción del tiempo hasta el evento. Configuramos **censor_surv = 'km'** para indicar que queremos usar **Kaplan-Meier** para estimar la distribución de censura."
      ],
      "metadata": {
        "id": "_CCvarbRk2di"
      }
    },
    {
      "cell_type": "code",
      "source": [
        "ev = EvalSurv(surv, durations_test, events_test, censor_surv='km')"
      ],
      "metadata": {
        "colab": {
          "base_uri": "https://localhost:8080/"
        },
        "id": "wKM3nB4KRVn_",
        "outputId": "f56d2b2f-ac91-4eae-e963-42f884ff1643"
      },
      "execution_count": null,
      "outputs": [
        {
          "output_type": "stream",
          "name": "stderr",
          "text": [
            "/usr/local/lib/python3.10/dist-packages/pycox/evaluation/eval_surv.py:36: FutureWarning: is_monotonic is deprecated and will be removed in a future version. Use is_monotonic_increasing instead.\n",
            "  assert pd.Series(self.index_surv).is_monotonic\n"
          ]
        }
      ]
    },
    {
      "cell_type": "markdown",
      "source": [
        "# **Concordancia**\n",
        "Comenzamos con la concordancia **event-time** de [Antolini et al. 2005](https://onlinelibrary.wiley.com/doi/10.1002/sim.2427)."
      ],
      "metadata": {
        "id": "JbNzSi4RlIyw"
      }
    },
    {
      "cell_type": "code",
      "source": [
        "ev.concordance_td('antolini')"
      ],
      "metadata": {
        "colab": {
          "base_uri": "https://localhost:8080/"
        },
        "id": "rv1UKis5RaYQ",
        "outputId": "5b23e922-bd23-4a38-89e4-8a1eb39aa018"
      },
      "execution_count": null,
      "outputs": [
        {
          "output_type": "execute_result",
          "data": {
            "text/plain": [
              "0.6393497429896778"
            ]
          },
          "metadata": {},
          "execution_count": 34
        }
      ]
    },
    {
      "cell_type": "markdown",
      "source": [
        "# **Brier Score**\n",
        "Podemos trazar la puntuación de [IPCW Brier](https://onlinelibrary.wiley.com/doi/abs/10.1002/%28SICI%291097-0258%2819990915/30%2918%3A17/18%3C2529%3A%3AAID-SIM274%3E3.0.CO%3B2-5) para un conjunto de tiempos determinado. Aquí solo usamos 100 puntos de tiempo entre la duración mínima y máxima en el conjunto de prueba. Tenga en cuenta que la puntuación se vuelve inestable para los tiempos más altos. Por lo tanto, es común ignorar la parte más derecha del gráfico."
      ],
      "metadata": {
        "id": "SeTMkw7zlXIh"
      }
    },
    {
      "cell_type": "code",
      "source": [
        "time_grid = np.linspace(durations_test.min(), durations_test.max(), 100)\n",
        "ev.brier_score(time_grid).plot()\n",
        "plt.ylabel('Brier score')\n",
        "_ = plt.xlabel('Time')"
      ],
      "metadata": {
        "colab": {
          "base_uri": "https://localhost:8080/",
          "height": 451
        },
        "id": "PBP31VsqlioZ",
        "outputId": "f286d116-b15d-422e-cd3f-e80c1308efee"
      },
      "execution_count": null,
      "outputs": [
        {
          "output_type": "display_data",
          "data": {
            "text/plain": [
              "<Figure size 640x480 with 1 Axes>"
            ],
            "image/png": "[encoded data removed]"
          },
          "metadata": {}
        }
      ]
    },
    {
      "cell_type": "markdown",
      "source": [
        "# **Negative binomial log-likelihood**\n",
        "De manera similar, podemos trazar el [IPCW negative binomial log-likelihood](https://onlinelibrary.wiley.com/doi/abs/10.1002/%28SICI%291097-0258%2819990915/30%2918%3A17/18%3C2529%3A%3AAID-SIM274%3E3.0.CO%3B2-5)."
      ],
      "metadata": {
        "id": "60JdqpSXlmz6"
      }
    },
    {
      "cell_type": "code",
      "source": [
        "ev.nbll(time_grid).plot()\n",
        "plt.ylabel('NBLL')\n",
        "_ = plt.xlabel('Time')"
      ],
      "metadata": {
        "colab": {
          "base_uri": "https://localhost:8080/",
          "height": 451
        },
        "id": "AYlUw-3zlxmz",
        "outputId": "eb61faf3-e18c-46db-cfec-ae8ccd3a124c"
      },
      "execution_count": null,
      "outputs": [
        {
          "output_type": "display_data",
          "data": {
            "text/plain": [
              "<Figure size 640x480 with 1 Axes>"
            ],
            "image/png": "[encoded data removed]"
          },
          "metadata": {}
        }
      ]
    },
    {
      "cell_type": "markdown",
      "source": [
        "# **Integrated scores**\n",
        "Las dos puntuaciones anteriores dependientes del tiempo se pueden integrar a lo largo del tiempo para producir una puntuación única [Graf et al. 1999](https://onlinelibrary.wiley.com/doi/abs/10.1002/%28SICI%291097-0258%2819990915/30%2918%3A17/18%3C2529%3A%3AAID-SIM274%3E3.0.CO%3B2-5). En la práctica, esto se hace mediante integración numérica sobre una cuadrícula de tiempo definida."
      ],
      "metadata": {
        "id": "e_E63Wsolyj4"
      }
    },
    {
      "cell_type": "code",
      "source": [
        "ev.integrated_brier_score(time_grid)"
      ],
      "metadata": {
        "colab": {
          "base_uri": "https://localhost:8080/"
        },
        "id": "NeYRqyT5mIOg",
        "outputId": "57f8f7e8-667a-4680-96a2-8796eb912180"
      },
      "execution_count": null,
      "outputs": [
        {
          "output_type": "execute_result",
          "data": {
            "text/plain": [
              "0.1664749310982349"
            ]
          },
          "metadata": {},
          "execution_count": 37
        }
      ]
    },
    {
      "cell_type": "code",
      "source": [
        "\n",
        "ev.integrated_nbll(time_grid)"
      ],
      "metadata": {
        "colab": {
          "base_uri": "https://localhost:8080/"
        },
        "id": "UNb48HI7mLRD",
        "outputId": "b327feb4-1817-4d8f-9525-083d48d10c5e"
      },
      "execution_count": null,
      "outputs": [
        {
          "output_type": "execute_result",
          "data": {
            "text/plain": [
              "0.5025377159746018"
            ]
          },
          "metadata": {},
          "execution_count": 38
        }
      ]
    }
  ]
}