{
  "nbformat": 4,
  "nbformat_minor": 0,
  "metadata": {
    "colab": {
      "provenance": [],
      "authorship_tag": "ABX9TyNx9bYgALfc47JRTUNgDvHF",
      "include_colab_link": true
    },
    "kernelspec": {
      "name": "python3",
      "display_name": "Python 3"
    },
    "language_info": {
      "name": "python"
    }
  },
  "cells": [
    {
      "cell_type": "markdown",
      "metadata": {
        "id": "view-in-github",
        "colab_type": "text"
      },
      "source": [
        "<a href=\"https://colab.research.google.com/github/NOKOGIDO/Time-to-Event/blob/main/Modelos/PMF.ipynb\" target=\"_parent\"><img src=\"https://colab.research.google.com/assets/colab-badge.svg\" alt=\"Open In Colab\"/></a>"
      ]
    },
    {
      "cell_type": "markdown",
      "source": [
        "# **PMF Method**\n",
        "En este cuaderno, se muestra un ejemplo del modelo **PMF**."
      ],
      "metadata": {
        "id": "9lKKptSZud2D"
      }
    },
    {
      "cell_type": "code",
      "source": [
        "!git clone https://github.com/havakv/pycox.git"
      ],
      "metadata": {
        "id": "BerOlvZbOUBZ",
        "colab": {
          "base_uri": "https://localhost:8080/"
        },
        "outputId": "96b882f1-afcd-4e24-9af5-b3ebf677e467"
      },
      "execution_count": null,
      "outputs": [
        {
          "output_type": "stream",
          "name": "stdout",
          "text": [
            "Cloning into 'pycox'...\n",
            "remote: Enumerating objects: 1752, done.\u001b[K\n",
            "remote: Counting objects: 100% (149/149), done.\u001b[K\n",
            "remote: Compressing objects: 100% (81/81), done.\u001b[K\n",
            "remote: Total 1752 (delta 81), reused 115 (delta 67), pack-reused 1603\u001b[K\n",
            "Receiving objects: 100% (1752/1752), 2.51 MiB | 8.07 MiB/s, done.\n",
            "Resolving deltas: 100% (1138/1138), done.\n"
          ]
        }
      ]
    },
    {
      "cell_type": "code",
      "execution_count": null,
      "metadata": {
        "id": "xymmdR2QNBug",
        "colab": {
          "base_uri": "https://localhost:8080/"
        },
        "outputId": "ee41b4f2-4c48-4a44-c62c-8a1e249035ec"
      },
      "outputs": [
        {
          "output_type": "stream",
          "name": "stdout",
          "text": [
            "Requirement already satisfied: sklearn-pandas in /usr/local/lib/python3.10/dist-packages (2.2.0)\n",
            "Requirement already satisfied: scikit-learn>=0.23.0 in /usr/local/lib/python3.10/dist-packages (from sklearn-pandas) (1.2.2)\n",
            "Requirement already satisfied: scipy>=1.5.1 in /usr/local/lib/python3.10/dist-packages (from sklearn-pandas) (1.10.1)\n",
            "Requirement already satisfied: pandas>=1.1.4 in /usr/local/lib/python3.10/dist-packages (from sklearn-pandas) (1.5.3)\n",
            "Requirement already satisfied: numpy>=1.18.1 in /usr/local/lib/python3.10/dist-packages (from sklearn-pandas) (1.23.5)\n",
            "Requirement already satisfied: python-dateutil>=2.8.1 in /usr/local/lib/python3.10/dist-packages (from pandas>=1.1.4->sklearn-pandas) (2.8.2)\n",
            "Requirement already satisfied: pytz>=2020.1 in /usr/local/lib/python3.10/dist-packages (from pandas>=1.1.4->sklearn-pandas) (2023.3.post1)\n",
            "Requirement already satisfied: joblib>=1.1.1 in /usr/local/lib/python3.10/dist-packages (from scikit-learn>=0.23.0->sklearn-pandas) (1.3.2)\n",
            "Requirement already satisfied: threadpoolctl>=2.0.0 in /usr/local/lib/python3.10/dist-packages (from scikit-learn>=0.23.0->sklearn-pandas) (3.2.0)\n",
            "Requirement already satisfied: six>=1.5 in /usr/local/lib/python3.10/dist-packages (from python-dateutil>=2.8.1->pandas>=1.1.4->sklearn-pandas) (1.16.0)\n"
          ]
        }
      ],
      "source": [
        "! pip install sklearn-pandas"
      ]
    },
    {
      "cell_type": "code",
      "source": [
        "import numpy as np\n",
        "import matplotlib.pyplot as plt\n",
        "\n",
        "# For preprocessing\n",
        "from sklearn.preprocessing import StandardScaler\n",
        "from sklearn_pandas import DataFrameMapper"
      ],
      "metadata": {
        "id": "64dGp0qYNXTv"
      },
      "execution_count": null,
      "outputs": []
    },
    {
      "cell_type": "code",
      "source": [
        "!pip install pycox"
      ],
      "metadata": {
        "id": "1FnJsV2UN7OC",
        "colab": {
          "base_uri": "https://localhost:8080/"
        },
        "outputId": "3058398d-6bc9-4b57-8ee8-1e332e0d8e64"
      },
      "execution_count": null,
      "outputs": [
        {
          "output_type": "stream",
          "name": "stdout",
          "text": [
            "Collecting pycox\n",
            "  Downloading pycox-0.2.3-py3-none-any.whl (73 kB)\n",
            "\u001b[2K     \u001b[90m━━━━━━━━━━━━━━━━━━━━━━━━━━━━━━━━━━━━━━━━\u001b[0m \u001b[32m73.7/73.7 kB\u001b[0m \u001b[31m1.2 MB/s\u001b[0m eta \u001b[36m0:00:00\u001b[0m\n",
            "\u001b[?25hCollecting torchtuples>=0.2.0 (from pycox)\n",
            "  Downloading torchtuples-0.2.2-py3-none-any.whl (41 kB)\n",
            "\u001b[2K     \u001b[90m━━━━━━━━━━━━━━━━━━━━━━━━━━━━━━━━━━━━━━━━\u001b[0m \u001b[32m41.9/41.9 kB\u001b[0m \u001b[31m3.1 MB/s\u001b[0m eta \u001b[36m0:00:00\u001b[0m\n",
            "\u001b[?25hCollecting feather-format>=0.4.0 (from pycox)\n",
            "  Downloading feather-format-0.4.1.tar.gz (3.2 kB)\n",
            "  Preparing metadata (setup.py) ... \u001b[?25l\u001b[?25hdone\n",
            "Requirement already satisfied: h5py>=2.9.0 in /usr/local/lib/python3.10/dist-packages (from pycox) (3.9.0)\n",
            "Requirement already satisfied: numba>=0.44 in /usr/local/lib/python3.10/dist-packages (from pycox) (0.56.4)\n",
            "Requirement already satisfied: scikit-learn>=0.21.2 in /usr/local/lib/python3.10/dist-packages (from pycox) (1.2.2)\n",
            "Requirement already satisfied: requests>=2.22.0 in /usr/local/lib/python3.10/dist-packages (from pycox) (2.31.0)\n",
            "Collecting py7zr>=0.11.3 (from pycox)\n",
            "  Downloading py7zr-0.20.6-py3-none-any.whl (66 kB)\n",
            "\u001b[2K     \u001b[90m━━━━━━━━━━━━━━━━━━━━━━━━━━━━━━━━━━━━━━━━\u001b[0m \u001b[32m66.7/66.7 kB\u001b[0m \u001b[31m7.0 MB/s\u001b[0m eta \u001b[36m0:00:00\u001b[0m\n",
            "\u001b[?25hRequirement already satisfied: pyarrow>=0.4.0 in /usr/local/lib/python3.10/dist-packages (from feather-format>=0.4.0->pycox) (9.0.0)\n",
            "Requirement already satisfied: numpy>=1.17.3 in /usr/local/lib/python3.10/dist-packages (from h5py>=2.9.0->pycox) (1.23.5)\n",
            "Requirement already satisfied: llvmlite<0.40,>=0.39.0dev0 in /usr/local/lib/python3.10/dist-packages (from numba>=0.44->pycox) (0.39.1)\n",
            "Requirement already satisfied: setuptools in /usr/local/lib/python3.10/dist-packages (from numba>=0.44->pycox) (67.7.2)\n",
            "Collecting texttable (from py7zr>=0.11.3->pycox)\n",
            "  Downloading texttable-1.6.7-py2.py3-none-any.whl (10 kB)\n",
            "Collecting pycryptodomex>=3.6.6 (from py7zr>=0.11.3->pycox)\n",
            "  Downloading pycryptodomex-3.18.0-cp35-abi3-manylinux_2_17_x86_64.manylinux2014_x86_64.whl (2.1 MB)\n",
            "\u001b[2K     \u001b[90m━━━━━━━━━━━━━━━━━━━━━━━━━━━━━━━━━━━━━━━━\u001b[0m \u001b[32m2.1/2.1 MB\u001b[0m \u001b[31m34.2 MB/s\u001b[0m eta \u001b[36m0:00:00\u001b[0m\n",
            "\u001b[?25hCollecting pyzstd>=0.14.4 (from py7zr>=0.11.3->pycox)\n",
            "  Downloading pyzstd-0.15.9-cp310-cp310-manylinux_2_17_x86_64.manylinux2014_x86_64.whl (412 kB)\n",
            "\u001b[2K     \u001b[90m━━━━━━━━━━━━━━━━━━━━━━━━━━━━━━━━━━━━━━\u001b[0m \u001b[32m412.3/412.3 kB\u001b[0m \u001b[31m34.7 MB/s\u001b[0m eta \u001b[36m0:00:00\u001b[0m\n",
            "\u001b[?25hCollecting pyppmd<1.1.0,>=0.18.1 (from py7zr>=0.11.3->pycox)\n",
            "  Downloading pyppmd-1.0.0-cp310-cp310-manylinux_2_17_x86_64.manylinux2014_x86_64.whl (138 kB)\n",
            "\u001b[2K     \u001b[90m━━━━━━━━━━━━━━━━━━━━━━━━━━━━━━━━━━━━━━\u001b[0m \u001b[32m138.8/138.8 kB\u001b[0m \u001b[31m14.2 MB/s\u001b[0m eta \u001b[36m0:00:00\u001b[0m\n",
            "\u001b[?25hCollecting pybcj>=0.6.0 (from py7zr>=0.11.3->pycox)\n",
            "  Downloading pybcj-1.0.1-cp310-cp310-manylinux_2_17_x86_64.manylinux2014_x86_64.whl (49 kB)\n",
            "\u001b[2K     \u001b[90m━━━━━━━━━━━━━━━━━━━━━━━━━━━━━━━━━━━━━━━━\u001b[0m \u001b[32m49.8/49.8 kB\u001b[0m \u001b[31m4.5 MB/s\u001b[0m eta \u001b[36m0:00:00\u001b[0m\n",
            "\u001b[?25hCollecting multivolumefile>=0.2.3 (from py7zr>=0.11.3->pycox)\n",
            "  Downloading multivolumefile-0.2.3-py3-none-any.whl (17 kB)\n",
            "Collecting brotli>=1.0.9 (from py7zr>=0.11.3->pycox)\n",
            "  Downloading Brotli-1.1.0-cp310-cp310-manylinux_2_5_x86_64.manylinux1_x86_64.manylinux_2_12_x86_64.manylinux2010_x86_64.whl (3.0 MB)\n",
            "\u001b[2K     \u001b[90m━━━━━━━━━━━━━━━━━━━━━━━━━━━━━━━━━━━━━━━━\u001b[0m \u001b[32m3.0/3.0 MB\u001b[0m \u001b[31m48.0 MB/s\u001b[0m eta \u001b[36m0:00:00\u001b[0m\n",
            "\u001b[?25hCollecting inflate64>=0.3.1 (from py7zr>=0.11.3->pycox)\n",
            "  Downloading inflate64-0.3.1-cp310-cp310-manylinux_2_17_x86_64.manylinux2014_x86_64.whl (93 kB)\n",
            "\u001b[2K     \u001b[90m━━━━━━━━━━━━━━━━━━━━━━━━━━━━━━━━━━━━━━━━\u001b[0m \u001b[32m93.1/93.1 kB\u001b[0m \u001b[31m8.8 MB/s\u001b[0m eta \u001b[36m0:00:00\u001b[0m\n",
            "\u001b[?25hRequirement already satisfied: psutil in /usr/local/lib/python3.10/dist-packages (from py7zr>=0.11.3->pycox) (5.9.5)\n",
            "Requirement already satisfied: charset-normalizer<4,>=2 in /usr/local/lib/python3.10/dist-packages (from requests>=2.22.0->pycox) (3.2.0)\n",
            "Requirement already satisfied: idna<4,>=2.5 in /usr/local/lib/python3.10/dist-packages (from requests>=2.22.0->pycox) (3.4)\n",
            "Requirement already satisfied: urllib3<3,>=1.21.1 in /usr/local/lib/python3.10/dist-packages (from requests>=2.22.0->pycox) (2.0.4)\n",
            "Requirement already satisfied: certifi>=2017.4.17 in /usr/local/lib/python3.10/dist-packages (from requests>=2.22.0->pycox) (2023.7.22)\n",
            "Requirement already satisfied: scipy>=1.3.2 in /usr/local/lib/python3.10/dist-packages (from scikit-learn>=0.21.2->pycox) (1.10.1)\n",
            "Requirement already satisfied: joblib>=1.1.1 in /usr/local/lib/python3.10/dist-packages (from scikit-learn>=0.21.2->pycox) (1.3.2)\n",
            "Requirement already satisfied: threadpoolctl>=2.0.0 in /usr/local/lib/python3.10/dist-packages (from scikit-learn>=0.21.2->pycox) (3.2.0)\n",
            "Requirement already satisfied: pandas>=0.24.2 in /usr/local/lib/python3.10/dist-packages (from torchtuples>=0.2.0->pycox) (1.5.3)\n",
            "Requirement already satisfied: matplotlib>=3.0.3 in /usr/local/lib/python3.10/dist-packages (from torchtuples>=0.2.0->pycox) (3.7.1)\n",
            "Requirement already satisfied: contourpy>=1.0.1 in /usr/local/lib/python3.10/dist-packages (from matplotlib>=3.0.3->torchtuples>=0.2.0->pycox) (1.1.0)\n",
            "Requirement already satisfied: cycler>=0.10 in /usr/local/lib/python3.10/dist-packages (from matplotlib>=3.0.3->torchtuples>=0.2.0->pycox) (0.11.0)\n",
            "Requirement already satisfied: fonttools>=4.22.0 in /usr/local/lib/python3.10/dist-packages (from matplotlib>=3.0.3->torchtuples>=0.2.0->pycox) (4.42.1)\n",
            "Requirement already satisfied: kiwisolver>=1.0.1 in /usr/local/lib/python3.10/dist-packages (from matplotlib>=3.0.3->torchtuples>=0.2.0->pycox) (1.4.5)\n",
            "Requirement already satisfied: packaging>=20.0 in /usr/local/lib/python3.10/dist-packages (from matplotlib>=3.0.3->torchtuples>=0.2.0->pycox) (23.1)\n",
            "Requirement already satisfied: pillow>=6.2.0 in /usr/local/lib/python3.10/dist-packages (from matplotlib>=3.0.3->torchtuples>=0.2.0->pycox) (9.4.0)\n",
            "Requirement already satisfied: pyparsing>=2.3.1 in /usr/local/lib/python3.10/dist-packages (from matplotlib>=3.0.3->torchtuples>=0.2.0->pycox) (3.1.1)\n",
            "Requirement already satisfied: python-dateutil>=2.7 in /usr/local/lib/python3.10/dist-packages (from matplotlib>=3.0.3->torchtuples>=0.2.0->pycox) (2.8.2)\n",
            "Requirement already satisfied: pytz>=2020.1 in /usr/local/lib/python3.10/dist-packages (from pandas>=0.24.2->torchtuples>=0.2.0->pycox) (2023.3.post1)\n",
            "Requirement already satisfied: six>=1.5 in /usr/local/lib/python3.10/dist-packages (from python-dateutil>=2.7->matplotlib>=3.0.3->torchtuples>=0.2.0->pycox) (1.16.0)\n",
            "Building wheels for collected packages: feather-format\n",
            "  Building wheel for feather-format (setup.py) ... \u001b[?25l\u001b[?25hdone\n",
            "  Created wheel for feather-format: filename=feather_format-0.4.1-py3-none-any.whl size=2435 sha256=5d6fbb9f30dfe7d72ca24834eb25420c5e65bf29b8b78df7738a24c2b6f3c3f2\n",
            "  Stored in directory: /root/.cache/pip/wheels/a6/ff/5d/4f10de26fe5ddef243c97f13c6cf579d7353d659e41a05c3a6\n",
            "Successfully built feather-format\n",
            "Installing collected packages: texttable, brotli, pyzstd, pyppmd, pycryptodomex, pybcj, multivolumefile, inflate64, py7zr, feather-format, torchtuples, pycox\n",
            "Successfully installed brotli-1.1.0 feather-format-0.4.1 inflate64-0.3.1 multivolumefile-0.2.3 py7zr-0.20.6 pybcj-1.0.1 pycox-0.2.3 pycryptodomex-3.18.0 pyppmd-1.0.0 pyzstd-0.15.9 texttable-1.6.7 torchtuples-0.2.2\n"
          ]
        }
      ]
    },
    {
      "cell_type": "markdown",
      "source": [
        "Pycox está construido sobre PyTorch y torchtuples, esto nos ayuda a entrenar redes neuronales con menos código repetitivo."
      ],
      "metadata": {
        "id": "ocg544tiu-hc"
      }
    },
    {
      "cell_type": "code",
      "source": [
        "import torch # For building the networks\n",
        "import torchtuples as tt # Some useful functions"
      ],
      "metadata": {
        "id": "xsYutB_7NnsV"
      },
      "execution_count": null,
      "outputs": []
    },
    {
      "cell_type": "markdown",
      "source": [
        "Importamos el dataset, el modelo DeepHitSingle y EvalSurv que simplifica el procedimiento de evaluación."
      ],
      "metadata": {
        "id": "JJs3KEBju_vJ"
      }
    },
    {
      "cell_type": "code",
      "source": [
        "from pycox.datasets import metabric\n",
        "#from pycox.datasets import support\n",
        "#from pycox.datasets import gbsg\n",
        "from pycox.models import PMF\n",
        "from pycox.evaluation import EvalSurv"
      ],
      "metadata": {
        "id": "siqTyEsSOiMy"
      },
      "execution_count": null,
      "outputs": []
    },
    {
      "cell_type": "code",
      "source": [
        "# We also set some seeds to make this reproducable.\n",
        "# Note that on gpu, there is still some randomness.\n",
        "np.random.seed(2587)\n",
        "_ = torch.manual_seed(258)"
      ],
      "metadata": {
        "id": "4YSg57NZO28J"
      },
      "execution_count": null,
      "outputs": []
    },
    {
      "cell_type": "markdown",
      "source": [
        "# **Dataset**\n",
        "Cargamos el dataset METABRIC (en este apartado podemos cambiar para seleccionar el dataset Rot. & GBSG o el dataset SUPPORT) y hacemos las particiones de entrenamiento, test y validación. La columna **duration** proporciona los tiempos observados y la columna **event** contiene indicadores de si la observación es un **evento** (1) o una **observación censurada** (0)."
      ],
      "metadata": {
        "id": "w69hZdnUvIQi"
      }
    },
    {
      "cell_type": "code",
      "source": [
        "df_train = metabric.read_df()\n",
        "df_test = df_train.sample(frac=0.2)\n",
        "df_train = df_train.drop(df_test.index)\n",
        "df_val = df_train.sample(frac=0.2)\n",
        "df_train = df_train.drop(df_val.index)"
      ],
      "metadata": {
        "id": "LWPi2ZTqO4LX",
        "colab": {
          "base_uri": "https://localhost:8080/"
        },
        "outputId": "31da1df7-9409-4800-f0f6-4622d2fe5f15"
      },
      "execution_count": null,
      "outputs": [
        {
          "output_type": "stream",
          "name": "stdout",
          "text": [
            "Dataset 'metabric' not locally available. Downloading...\n",
            "Done\n"
          ]
        }
      ]
    },
    {
      "cell_type": "code",
      "source": [
        "df_train.head()"
      ],
      "metadata": {
        "colab": {
          "base_uri": "https://localhost:8080/",
          "height": 206
        },
        "id": "UQZylN1ZPMhV",
        "outputId": "b69f341e-0d95-4fba-b411-82b2598952fa"
      },
      "execution_count": null,
      "outputs": [
        {
          "output_type": "execute_result",
          "data": {
            "text/plain": [
              "          x0        x1         x2        x3   x4   x5   x6   x7         x8  \\\n",
              "0   5.603834  7.811392  10.797988  5.967607  1.0  1.0  0.0  1.0  56.840000   \n",
              "4   5.456747  5.339741  10.555724  6.008429  1.0  0.0  0.0  1.0  67.849998   \n",
              "7   5.916774  5.289600  12.981733  6.009507  0.0  1.0  0.0  1.0  64.610001   \n",
              "8   5.865741  6.738176  10.850687  5.596416  0.0  0.0  0.0  1.0  68.209999   \n",
              "11  6.333529  5.170259   8.742507  6.500216  0.0  1.0  1.0  0.0  55.020000   \n",
              "\n",
              "      duration  event  \n",
              "0    99.333336      0  \n",
              "4    56.933334      1  \n",
              "7   143.000000      1  \n",
              "8   150.600006      1  \n",
              "11  141.166672      0  "
            ],
            "text/html": [
              "\n",
              "  <div id=\"df-ac43f8d6-f20a-4fa0-a9b6-0b7cfe26103a\" class=\"colab-df-container\">\n",
              "    <div>\n",
              "<style scoped>\n",
              "    .dataframe tbody tr th:only-of-type {\n",
              "        vertical-align: middle;\n",
              "    }\n",
              "\n",
              "    .dataframe tbody tr th {\n",
              "        vertical-align: top;\n",
              "    }\n",
              "\n",
              "    .dataframe thead th {\n",
              "        text-align: right;\n",
              "    }\n",
              "</style>\n",
              "<table border=\"1\" class=\"dataframe\">\n",
              "  <thead>\n",
              "    <tr style=\"text-align: right;\">\n",
              "      <th></th>\n",
              "      <th>x0</th>\n",
              "      <th>x1</th>\n",
              "      <th>x2</th>\n",
              "      <th>x3</th>\n",
              "      <th>x4</th>\n",
              "      <th>x5</th>\n",
              "      <th>x6</th>\n",
              "      <th>x7</th>\n",
              "      <th>x8</th>\n",
              "      <th>duration</th>\n",
              "      <th>event</th>\n",
              "    </tr>\n",
              "  </thead>\n",
              "  <tbody>\n",
              "    <tr>\n",
              "      <th>0</th>\n",
              "      <td>5.603834</td>\n",
              "      <td>7.811392</td>\n",
              "      <td>10.797988</td>\n",
              "      <td>5.967607</td>\n",
              "      <td>1.0</td>\n",
              "      <td>1.0</td>\n",
              "      <td>0.0</td>\n",
              "      <td>1.0</td>\n",
              "      <td>56.840000</td>\n",
              "      <td>99.333336</td>\n",
              "      <td>0</td>\n",
              "    </tr>\n",
              "    <tr>\n",
              "      <th>4</th>\n",
              "      <td>5.456747</td>\n",
              "      <td>5.339741</td>\n",
              "      <td>10.555724</td>\n",
              "      <td>6.008429</td>\n",
              "      <td>1.0</td>\n",
              "      <td>0.0</td>\n",
              "      <td>0.0</td>\n",
              "      <td>1.0</td>\n",
              "      <td>67.849998</td>\n",
              "      <td>56.933334</td>\n",
              "      <td>1</td>\n",
              "    </tr>\n",
              "    <tr>\n",
              "      <th>7</th>\n",
              "      <td>5.916774</td>\n",
              "      <td>5.289600</td>\n",
              "      <td>12.981733</td>\n",
              "      <td>6.009507</td>\n",
              "      <td>0.0</td>\n",
              "      <td>1.0</td>\n",
              "      <td>0.0</td>\n",
              "      <td>1.0</td>\n",
              "      <td>64.610001</td>\n",
              "      <td>143.000000</td>\n",
              "      <td>1</td>\n",
              "    </tr>\n",
              "    <tr>\n",
              "      <th>8</th>\n",
              "      <td>5.865741</td>\n",
              "      <td>6.738176</td>\n",
              "      <td>10.850687</td>\n",
              "      <td>5.596416</td>\n",
              "      <td>0.0</td>\n",
              "      <td>0.0</td>\n",
              "      <td>0.0</td>\n",
              "      <td>1.0</td>\n",
              "      <td>68.209999</td>\n",
              "      <td>150.600006</td>\n",
              "      <td>1</td>\n",
              "    </tr>\n",
              "    <tr>\n",
              "      <th>11</th>\n",
              "      <td>6.333529</td>\n",
              "      <td>5.170259</td>\n",
              "      <td>8.742507</td>\n",
              "      <td>6.500216</td>\n",
              "      <td>0.0</td>\n",
              "      <td>1.0</td>\n",
              "      <td>1.0</td>\n",
              "      <td>0.0</td>\n",
              "      <td>55.020000</td>\n",
              "      <td>141.166672</td>\n",
              "      <td>0</td>\n",
              "    </tr>\n",
              "  </tbody>\n",
              "</table>\n",
              "</div>\n",
              "    <div class=\"colab-df-buttons\">\n",
              "\n",
              "  <div class=\"colab-df-container\">\n",
              "    <button class=\"colab-df-convert\" onclick=\"convertToInteractive('df-ac43f8d6-f20a-4fa0-a9b6-0b7cfe26103a')\"\n",
              "            title=\"Convert this dataframe to an interactive table.\"\n",
              "            style=\"display:none;\">\n",
              "\n",
              "  <svg xmlns=\"http://www.w3.org/2000/svg\" height=\"24px\" viewBox=\"0 -960 960 960\">\n",
              "    <path d=\"M120-120v-720h720v720H120Zm60-500h600v-160H180v160Zm220 220h160v-160H400v160Zm0 220h160v-160H400v160ZM180-400h160v-160H180v160Zm440 0h160v-160H620v160ZM180-180h160v-160H180v160Zm440 0h160v-160H620v160Z\"/>\n",
              "  </svg>\n",
              "    </button>\n",
              "\n",
              "  <style>\n",
              "    .colab-df-container {\n",
              "      display:flex;\n",
              "      gap: 12px;\n",
              "    }\n",
              "\n",
              "    .colab-df-convert {\n",
              "      background-color: #E8F0FE;\n",
              "      border: none;\n",
              "      border-radius: 50%;\n",
              "      cursor: pointer;\n",
              "      display: none;\n",
              "      fill: #1967D2;\n",
              "      height: 32px;\n",
              "      padding: 0 0 0 0;\n",
              "      width: 32px;\n",
              "    }\n",
              "\n",
              "    .colab-df-convert:hover {\n",
              "      background-color: #E2EBFA;\n",
              "      box-shadow: 0px 1px 2px rgba(60, 64, 67, 0.3), 0px 1px 3px 1px rgba(60, 64, 67, 0.15);\n",
              "      fill: #174EA6;\n",
              "    }\n",
              "\n",
              "    .colab-df-buttons div {\n",
              "      margin-bottom: 4px;\n",
              "    }\n",
              "\n",
              "    [theme=dark] .colab-df-convert {\n",
              "      background-color: #3B4455;\n",
              "      fill: #D2E3FC;\n",
              "    }\n",
              "\n",
              "    [theme=dark] .colab-df-convert:hover {\n",
              "      background-color: #434B5C;\n",
              "      box-shadow: 0px 1px 3px 1px rgba(0, 0, 0, 0.15);\n",
              "      filter: drop-shadow(0px 1px 2px rgba(0, 0, 0, 0.3));\n",
              "      fill: #FFFFFF;\n",
              "    }\n",
              "  </style>\n",
              "\n",
              "    <script>\n",
              "      const buttonEl =\n",
              "        document.querySelector('#df-ac43f8d6-f20a-4fa0-a9b6-0b7cfe26103a button.colab-df-convert');\n",
              "      buttonEl.style.display =\n",
              "        google.colab.kernel.accessAllowed ? 'block' : 'none';\n",
              "\n",
              "      async function convertToInteractive(key) {\n",
              "        const element = document.querySelector('#df-ac43f8d6-f20a-4fa0-a9b6-0b7cfe26103a');\n",
              "        const dataTable =\n",
              "          await google.colab.kernel.invokeFunction('convertToInteractive',\n",
              "                                                    [key], {});\n",
              "        if (!dataTable) return;\n",
              "\n",
              "        const docLinkHtml = 'Like what you see? Visit the ' +\n",
              "          '<a target=\"_blank\" href=https://colab.research.google.com/notebooks/data_table.ipynb>data table notebook</a>'\n",
              "          + ' to learn more about interactive tables.';\n",
              "        element.innerHTML = '';\n",
              "        dataTable['output_type'] = 'display_data';\n",
              "        await google.colab.output.renderOutput(dataTable, element);\n",
              "        const docLink = document.createElement('div');\n",
              "        docLink.innerHTML = docLinkHtml;\n",
              "        element.appendChild(docLink);\n",
              "      }\n",
              "    </script>\n",
              "  </div>\n",
              "\n",
              "\n",
              "<div id=\"df-36e993af-3198-4bd8-8f41-190001b2b80d\">\n",
              "  <button class=\"colab-df-quickchart\" onclick=\"quickchart('df-36e993af-3198-4bd8-8f41-190001b2b80d')\"\n",
              "            title=\"Suggest charts.\"\n",
              "            style=\"display:none;\">\n",
              "\n",
              "<svg xmlns=\"http://www.w3.org/2000/svg\" height=\"24px\"viewBox=\"0 0 24 24\"\n",
              "     width=\"24px\">\n",
              "    <g>\n",
              "        <path d=\"M19 3H5c-1.1 0-2 .9-2 2v14c0 1.1.9 2 2 2h14c1.1 0 2-.9 2-2V5c0-1.1-.9-2-2-2zM9 17H7v-7h2v7zm4 0h-2V7h2v10zm4 0h-2v-4h2v4z\"/>\n",
              "    </g>\n",
              "</svg>\n",
              "  </button>\n",
              "\n",
              "<style>\n",
              "  .colab-df-quickchart {\n",
              "      --bg-color: #E8F0FE;\n",
              "      --fill-color: #1967D2;\n",
              "      --hover-bg-color: #E2EBFA;\n",
              "      --hover-fill-color: #174EA6;\n",
              "      --disabled-fill-color: #AAA;\n",
              "      --disabled-bg-color: #DDD;\n",
              "  }\n",
              "\n",
              "  [theme=dark] .colab-df-quickchart {\n",
              "      --bg-color: #3B4455;\n",
              "      --fill-color: #D2E3FC;\n",
              "      --hover-bg-color: #434B5C;\n",
              "      --hover-fill-color: #FFFFFF;\n",
              "      --disabled-bg-color: #3B4455;\n",
              "      --disabled-fill-color: #666;\n",
              "  }\n",
              "\n",
              "  .colab-df-quickchart {\n",
              "    background-color: var(--bg-color);\n",
              "    border: none;\n",
              "    border-radius: 50%;\n",
              "    cursor: pointer;\n",
              "    display: none;\n",
              "    fill: var(--fill-color);\n",
              "    height: 32px;\n",
              "    padding: 0;\n",
              "    width: 32px;\n",
              "  }\n",
              "\n",
              "  .colab-df-quickchart:hover {\n",
              "    background-color: var(--hover-bg-color);\n",
              "    box-shadow: 0 1px 2px rgba(60, 64, 67, 0.3), 0 1px 3px 1px rgba(60, 64, 67, 0.15);\n",
              "    fill: var(--button-hover-fill-color);\n",
              "  }\n",
              "\n",
              "  .colab-df-quickchart-complete:disabled,\n",
              "  .colab-df-quickchart-complete:disabled:hover {\n",
              "    background-color: var(--disabled-bg-color);\n",
              "    fill: var(--disabled-fill-color);\n",
              "    box-shadow: none;\n",
              "  }\n",
              "\n",
              "  .colab-df-spinner {\n",
              "    border: 2px solid var(--fill-color);\n",
              "    border-color: transparent;\n",
              "    border-bottom-color: var(--fill-color);\n",
              "    animation:\n",
              "      spin 1s steps(1) infinite;\n",
              "  }\n",
              "\n",
              "  @keyframes spin {\n",
              "    0% {\n",
              "      border-color: transparent;\n",
              "      border-bottom-color: var(--fill-color);\n",
              "      border-left-color: var(--fill-color);\n",
              "    }\n",
              "    20% {\n",
              "      border-color: transparent;\n",
              "      border-left-color: var(--fill-color);\n",
              "      border-top-color: var(--fill-color);\n",
              "    }\n",
              "    30% {\n",
              "      border-color: transparent;\n",
              "      border-left-color: var(--fill-color);\n",
              "      border-top-color: var(--fill-color);\n",
              "      border-right-color: var(--fill-color);\n",
              "    }\n",
              "    40% {\n",
              "      border-color: transparent;\n",
              "      border-right-color: var(--fill-color);\n",
              "      border-top-color: var(--fill-color);\n",
              "    }\n",
              "    60% {\n",
              "      border-color: transparent;\n",
              "      border-right-color: var(--fill-color);\n",
              "    }\n",
              "    80% {\n",
              "      border-color: transparent;\n",
              "      border-right-color: var(--fill-color);\n",
              "      border-bottom-color: var(--fill-color);\n",
              "    }\n",
              "    90% {\n",
              "      border-color: transparent;\n",
              "      border-bottom-color: var(--fill-color);\n",
              "    }\n",
              "  }\n",
              "</style>\n",
              "\n",
              "  <script>\n",
              "    async function quickchart(key) {\n",
              "      const quickchartButtonEl =\n",
              "        document.querySelector('#' + key + ' button');\n",
              "      quickchartButtonEl.disabled = true;  // To prevent multiple clicks.\n",
              "      quickchartButtonEl.classList.add('colab-df-spinner');\n",
              "      try {\n",
              "        const charts = await google.colab.kernel.invokeFunction(\n",
              "            'suggestCharts', [key], {});\n",
              "      } catch (error) {\n",
              "        console.error('Error during call to suggestCharts:', error);\n",
              "      }\n",
              "      quickchartButtonEl.classList.remove('colab-df-spinner');\n",
              "      quickchartButtonEl.classList.add('colab-df-quickchart-complete');\n",
              "    }\n",
              "    (() => {\n",
              "      let quickchartButtonEl =\n",
              "        document.querySelector('#df-36e993af-3198-4bd8-8f41-190001b2b80d button');\n",
              "      quickchartButtonEl.style.display =\n",
              "        google.colab.kernel.accessAllowed ? 'block' : 'none';\n",
              "    })();\n",
              "  </script>\n",
              "</div>\n",
              "    </div>\n",
              "  </div>\n"
            ]
          },
          "metadata": {},
          "execution_count": 9
        }
      ]
    },
    {
      "cell_type": "markdown",
      "source": [
        "# **Transformación de Características**\n",
        "Tenemos una serie de variables, además de las duraciones e indicadores de eventos.\n",
        "\n",
        "Estandarizamos las variables numéricas y mantenemos las variables binarias. Las variables deben ser de tipo 'float32', ya que es necesario para el correcto funcionamiento de pytorch. Dependiendo del dataset seleccionado, debemos ajustar el número y tipo de variables, para su estandarización.\n",
        "\n",
        "Utilizamos **sklearn_pandas.DataFrameMapper** para hacer un mapeo de características.\n",
        "\n"
      ],
      "metadata": {
        "id": "xuBN6qj1vXZ-"
      }
    },
    {
      "cell_type": "code",
      "source": [
        "cols_standardize = ['x0', 'x1', 'x2', 'x3', 'x8']\n",
        "cols_leave = ['x4', 'x5', 'x6', 'x7']\n",
        "\n",
        "standardize = [([col], StandardScaler()) for col in cols_standardize]\n",
        "leave = [(col, None) for col in cols_leave]\n",
        "\n",
        "x_mapper = DataFrameMapper(standardize + leave)"
      ],
      "metadata": {
        "id": "NuWkDtc9PR0D"
      },
      "execution_count": null,
      "outputs": []
    },
    {
      "cell_type": "code",
      "source": [
        "x_train = x_mapper.fit_transform(df_train).astype('float32')\n",
        "x_val = x_mapper.transform(df_val).astype('float32')\n",
        "x_test = x_mapper.transform(df_test).astype('float32')"
      ],
      "metadata": {
        "id": "gwabUXNwPTE9"
      },
      "execution_count": null,
      "outputs": []
    },
    {
      "cell_type": "markdown",
      "source": [
        "# **Transformación de etiquetas**\n",
        "Los métodos de supervivencia requieren transformaciones de etiquetas individuales, por lo que hemos incluido una **label_transform**, esta es solo una abreviatura de la clase **pycox.preprocessing.label_transforms.LabTransDiscreteTime.**\n",
        "\n",
        "**PMF** es un método de tiempo discreto, por ello requiere definir intervalos de tiempo mediante discretización, para poder emplearse con datos de tiempo continuo. Empleamos **num_durations** que define el tamaño de la cuadrícula de discretización (equidistante), lo que significa que nuestra red tendrá **num_durations** nodos de salida."
      ],
      "metadata": {
        "id": "G1L2j_Xhvf4Y"
      }
    },
    {
      "cell_type": "code",
      "source": [
        "num_durations = 10\n",
        "\n",
        "labtrans = PMF.label_transform(num_durations)\n",
        "\n",
        "get_target = lambda df: (df['duration'].values, df['event'].values)\n",
        "y_train = labtrans.fit_transform(*get_target(df_train))\n",
        "y_val = labtrans.transform(*get_target(df_val))\n",
        "\n",
        "train = (x_train, y_train)\n",
        "val = (x_val, y_val)\n",
        "\n",
        "# We don't need to transform the test labels\n",
        "durations_test, events_test = get_target(df_test)"
      ],
      "metadata": {
        "id": "gJlN4OUzPYAo"
      },
      "execution_count": null,
      "outputs": []
    },
    {
      "cell_type": "code",
      "source": [
        "type(labtrans)"
      ],
      "metadata": {
        "colab": {
          "base_uri": "https://localhost:8080/"
        },
        "id": "RJzqK2lYPZTK",
        "outputId": "9d522f99-029a-4001-b3e6-8e89f263607a"
      },
      "execution_count": null,
      "outputs": [
        {
          "output_type": "execute_result",
          "data": {
            "text/plain": [
              "pycox.preprocessing.label_transforms.LabTransDiscreteTime"
            ]
          },
          "metadata": {},
          "execution_count": 13
        }
      ]
    },
    {
      "cell_type": "markdown",
      "source": [
        "# **Neural net**\n",
        "Creamos una MLP simple (Perceptrón Multicapa) con dos capas ocultas, activación ReLU, y **num_nodes** nodos de salida. También utilizamos **normalización batch** y **dropout** entre capas."
      ],
      "metadata": {
        "id": "YrbfaU74wRsL"
      }
    },
    {
      "cell_type": "code",
      "source": [
        "in_features = x_train.shape[1]\n",
        "num_nodes = [32, 32]\n",
        "out_features = labtrans.out_features\n",
        "batch_norm = True\n",
        "dropout = 0.1\n",
        "\n",
        "net = tt.practical.MLPVanilla(in_features, num_nodes, out_features, batch_norm, dropout)"
      ],
      "metadata": {
        "id": "GauwpGniPnSd"
      },
      "execution_count": null,
      "outputs": []
    },
    {
      "cell_type": "markdown",
      "source": [
        "# **Entrenamiento del Modelo**\n",
        "Para entrenar el modelo, es necesario definir un optimizador. En este caso se emplea **tt.optim** para la selección, ya que tiene alguna funcionalidad adicional. Se utiliza el optimizador **Adam**, pero en lugar de elegir una tasa de aprendizaje, usaremos el esquema propuesto por [Smith 2017](https://arxiv.org/pdf/1506.01186.pdf) para encontrar una tasa de aprendizaje adecuada con **model.lr_finder**. Puede consultar [esta publicación](https://towardsdatascience.com/finding-good-learning-rate-and-the-one-cycle-policy-7159fe1db5d6) para obtener una explicación más detallada.\n",
        "\n",
        "También configuramos el índice de duración que conecta los nodos de salida de la red con los tiempos de discretización. Esto sólo es útil para la predicción y no afecta el procedimiento de entrenamiento."
      ],
      "metadata": {
        "id": "7dqiLT6jw_ou"
      }
    },
    {
      "cell_type": "code",
      "source": [
        "model = PMF(net, tt.optim.Adam, duration_index=labtrans.cuts)"
      ],
      "metadata": {
        "id": "9I0wtnsYPsOF"
      },
      "execution_count": null,
      "outputs": []
    },
    {
      "cell_type": "code",
      "source": [
        "batch_size = 256\n",
        "lr_finder = model.lr_finder(x_train, y_train, batch_size, tolerance=4)\n",
        "_ = lr_finder.plot()"
      ],
      "metadata": {
        "id": "SbOBjU9uPvz8",
        "colab": {
          "base_uri": "https://localhost:8080/",
          "height": 454
        },
        "outputId": "5a2fb36c-8fad-4be9-e583-9bd9fda7365c"
      },
      "execution_count": null,
      "outputs": [
        {
          "output_type": "display_data",
          "data": {
            "text/plain": [
              "<Figure size 640x480 with 1 Axes>"
            ],
            "image/png": "[encoded data removed]"
          },
          "metadata": {}
        }
      ]
    },
    {
      "cell_type": "code",
      "source": [
        "lr_finder.get_best_lr()"
      ],
      "metadata": {
        "id": "NWc71v9OPydi",
        "colab": {
          "base_uri": "https://localhost:8080/"
        },
        "outputId": "321b5d93-96eb-49c1-fcbf-cac5a6eba375"
      },
      "execution_count": null,
      "outputs": [
        {
          "output_type": "execute_result",
          "data": {
            "text/plain": [
              "0.029150530628251937"
            ]
          },
          "metadata": {},
          "execution_count": 17
        }
      ]
    },
    {
      "cell_type": "markdown",
      "source": [
        "A menudo, esta tasa de aprendizaje es algo elevada, por lo que la configuramos manualmente en 0,01."
      ],
      "metadata": {
        "id": "LZu58TxDH_mT"
      }
    },
    {
      "cell_type": "code",
      "source": [
        "model.optimizer.set_lr(0.01)\n"
      ],
      "metadata": {
        "id": "Er0oHHiqP1RQ"
      },
      "execution_count": null,
      "outputs": []
    },
    {
      "cell_type": "markdown",
      "source": [
        "También se incluye **EarlyStoping** para detener el entrenamiento cuando la función de pérdida de validación deje de mejorar. Después del entrenamiento, se cargará el modelo con mejor rendimiento en términos de función de pérdida de la validación."
      ],
      "metadata": {
        "id": "q06wjVJRIKzs"
      }
    },
    {
      "cell_type": "code",
      "source": [
        "epochs = 100\n",
        "callbacks = [tt.callbacks.EarlyStopping()]\n",
        "log = model.fit(x_train, y_train, batch_size, epochs, callbacks, val_data=val)"
      ],
      "metadata": {
        "id": "wu_lvltjIPsa",
        "colab": {
          "base_uri": "https://localhost:8080/"
        },
        "outputId": "8c3e8853-4624-44c1-c8f1-bb1ffc147569"
      },
      "execution_count": null,
      "outputs": [
        {
          "output_type": "stream",
          "name": "stdout",
          "text": [
            "0:\t[0s / 0s],\t\ttrain_loss: 1.6963,\tval_loss: 1.5331\n",
            "1:\t[0s / 0s],\t\ttrain_loss: 1.5728,\tval_loss: 1.5015\n",
            "2:\t[0s / 0s],\t\ttrain_loss: 1.5092,\tval_loss: 1.4745\n",
            "3:\t[0s / 0s],\t\ttrain_loss: 1.4681,\tval_loss: 1.4441\n",
            "4:\t[0s / 0s],\t\ttrain_loss: 1.4467,\tval_loss: 1.4271\n",
            "5:\t[0s / 0s],\t\ttrain_loss: 1.4125,\tval_loss: 1.4214\n",
            "6:\t[0s / 0s],\t\ttrain_loss: 1.3866,\tval_loss: 1.4120\n",
            "7:\t[0s / 0s],\t\ttrain_loss: 1.3775,\tval_loss: 1.4098\n",
            "8:\t[0s / 0s],\t\ttrain_loss: 1.3514,\tval_loss: 1.3986\n",
            "9:\t[0s / 0s],\t\ttrain_loss: 1.3421,\tval_loss: 1.3923\n",
            "10:\t[0s / 0s],\t\ttrain_loss: 1.3397,\tval_loss: 1.3989\n",
            "11:\t[0s / 0s],\t\ttrain_loss: 1.3229,\tval_loss: 1.4006\n",
            "12:\t[0s / 0s],\t\ttrain_loss: 1.3076,\tval_loss: 1.3974\n",
            "13:\t[0s / 0s],\t\ttrain_loss: 1.3008,\tval_loss: 1.4017\n",
            "14:\t[0s / 0s],\t\ttrain_loss: 1.2841,\tval_loss: 1.4026\n",
            "15:\t[0s / 0s],\t\ttrain_loss: 1.2833,\tval_loss: 1.4093\n",
            "16:\t[0s / 0s],\t\ttrain_loss: 1.2753,\tval_loss: 1.4032\n",
            "17:\t[0s / 0s],\t\ttrain_loss: 1.2672,\tval_loss: 1.4083\n",
            "18:\t[0s / 0s],\t\ttrain_loss: 1.2559,\tval_loss: 1.4280\n",
            "19:\t[0s / 0s],\t\ttrain_loss: 1.2701,\tval_loss: 1.4236\n"
          ]
        }
      ]
    },
    {
      "cell_type": "code",
      "source": [
        "_ = log.plot()"
      ],
      "metadata": {
        "id": "7km-aatrP4XO",
        "colab": {
          "base_uri": "https://localhost:8080/",
          "height": 430
        },
        "outputId": "30065f37-11fc-4685-b12d-fd69ce92eafd"
      },
      "execution_count": null,
      "outputs": [
        {
          "output_type": "display_data",
          "data": {
            "text/plain": [
              "<Figure size 640x480 with 1 Axes>"
            ],
            "image/png": "[encoded data removed]"
          },
          "metadata": {}
        }
      ]
    },
    {
      "cell_type": "markdown",
      "source": [
        "# **Predicción**\n",
        "Para la evaluación, primero necesitamos obtener estimaciones de supervivencia para el conjunto de prueba. Esto se puede hacer con **model.predict_surv** que devuelve una serie de estimaciones de supervivencia, o con **model.predict_surv_df** que devuelve las estimaciones de supervivencia como un marco de datos."
      ],
      "metadata": {
        "id": "oBW8JzI0IVmu"
      }
    },
    {
      "cell_type": "code",
      "source": [
        "surv = model.predict_surv_df(x_test)"
      ],
      "metadata": {
        "id": "1F7jIYtJP6qW"
      },
      "execution_count": null,
      "outputs": []
    },
    {
      "cell_type": "markdown",
      "source": [
        "Podemos trazar las estimaciones de supervivencia para los primeros 5 individuos. Tenga en cuenta que la escala de tiempo es correcta porque hemos configurado **model.duration_index** para que sean los puntos de la cuadrícula. Sin embargo, solo hemos definido las estimaciones de supervivencia en los 10 tiempos en nuestra cuadrícula de discretización, por lo que las estimaciones de supervivencia son una función escalonada."
      ],
      "metadata": {
        "id": "q_zSE8GAIpnZ"
      }
    },
    {
      "cell_type": "code",
      "source": [
        "surv.iloc[:, :5].plot(drawstyle='steps-post')\n",
        "plt.ylabel('S(t | x)')\n",
        "_ = plt.xlabel('Time')"
      ],
      "metadata": {
        "colab": {
          "base_uri": "https://localhost:8080/",
          "height": 449
        },
        "id": "QSUXrqTHQF0g",
        "outputId": "ebe9d148-539d-428b-ffc0-16c7e3bd08f9"
      },
      "execution_count": null,
      "outputs": [
        {
          "output_type": "display_data",
          "data": {
            "text/plain": [
              "<Figure size 640x480 with 1 Axes>"
            ],
            "image/png": "[encoded data removed]"
          },
          "metadata": {}
        }
      ]
    },
    {
      "cell_type": "markdown",
      "source": [
        "Por lo tanto, a menudo es beneficioso interpolar las estimaciones de supervivencia, consulte [este artículo](https://arxiv.org/abs/1910.06724) para una discusión. La interpolación lineal (interpolación de densidad constante) se puede realizar con el método de **interpolate**. También debemos elegir con cuántos puntos queremos reemplazar cada punto de la cuadrícula. En este caso usaremos 10."
      ],
      "metadata": {
        "id": "sseJD7kQJCVX"
      }
    },
    {
      "cell_type": "code",
      "source": [
        "surv = model.interpolate(10).predict_surv_df(x_test)"
      ],
      "metadata": {
        "id": "7HXCGwlDQS3R"
      },
      "execution_count": null,
      "outputs": []
    },
    {
      "cell_type": "code",
      "source": [
        "surv.iloc[:, :5].plot(drawstyle='steps-post')\n",
        "plt.ylabel('S(t | x)')\n",
        "_ = plt.xlabel('Time')"
      ],
      "metadata": {
        "id": "bacnfzDHQU7J",
        "colab": {
          "base_uri": "https://localhost:8080/",
          "height": 449
        },
        "outputId": "61592bf9-96d0-4f68-9de7-b21994054226"
      },
      "execution_count": null,
      "outputs": [
        {
          "output_type": "display_data",
          "data": {
            "text/plain": [
              "<Figure size 640x480 with 1 Axes>"
            ],
            "image/png": "[encoded data removed]"
          },
          "metadata": {}
        }
      ]
    },
    {
      "cell_type": "markdown",
      "source": [
        "# **Evaluación**\n",
        "La clase **EvalSurv** contiene algunos criterios de evaluación útiles para la predicción del tiempo hasta el evento. Configuramos **censor_surv = 'km'** para indicar que queremos usar **Kaplan-Meier** para estimar la distribución de censura."
      ],
      "metadata": {
        "id": "cWvtQy2YJiUf"
      }
    },
    {
      "cell_type": "code",
      "source": [
        "ev = EvalSurv(surv, durations_test, events_test, censor_surv='km')"
      ],
      "metadata": {
        "id": "LERR4LlRQij1",
        "colab": {
          "base_uri": "https://localhost:8080/"
        },
        "outputId": "adc668f9-a81b-41f3-c153-d272aad64803"
      },
      "execution_count": null,
      "outputs": [
        {
          "output_type": "stream",
          "name": "stderr",
          "text": [
            "/usr/local/lib/python3.10/dist-packages/pycox/evaluation/eval_surv.py:36: FutureWarning: is_monotonic is deprecated and will be removed in a future version. Use is_monotonic_increasing instead.\n",
            "  assert pd.Series(self.index_surv).is_monotonic\n"
          ]
        }
      ]
    },
    {
      "cell_type": "markdown",
      "source": [
        "# **Concordancia**\n",
        "Comenzamos con la **concordancia** event-time de [Antolini et al. 2005](https://onlinelibrary.wiley.com/doi/10.1002/sim.2427)."
      ],
      "metadata": {
        "id": "TUsorE-7KBva"
      }
    },
    {
      "cell_type": "code",
      "source": [
        "ev.concordance_td('antolini')"
      ],
      "metadata": {
        "colab": {
          "base_uri": "https://localhost:8080/"
        },
        "id": "KQPW87dbQw3w",
        "outputId": "a7b22595-9595-48d2-e2f0-3cb6e65fa0de"
      },
      "execution_count": null,
      "outputs": [
        {
          "output_type": "execute_result",
          "data": {
            "text/plain": [
              "0.6418571607672698"
            ]
          },
          "metadata": {},
          "execution_count": 26
        }
      ]
    },
    {
      "cell_type": "markdown",
      "source": [
        "# **Brier Score**\n",
        "Podemos trazar la puntuación de [IPCW Brier](https://onlinelibrary.wiley.com/doi/abs/10.1002/%28SICI%291097-0258%2819990915/30%2918%3A17/18%3C2529%3A%3AAID-SIM274%3E3.0.CO%3B2-5) para un conjunto de tiempos determinado. Aquí solo usamos 100 puntos de tiempo entre la duración mínima y máxima en el conjunto de prueba. Tenga en cuenta que la puntuación se vuelve inestable para los tiempos más altos. Por lo tanto, es común ignorar la parte más derecha del gráfico."
      ],
      "metadata": {
        "id": "wtRxd7L7KPby"
      }
    },
    {
      "cell_type": "code",
      "source": [
        "time_grid = np.linspace(durations_test.min(), durations_test.max(), 100)\n",
        "ev.brier_score(time_grid).plot()\n",
        "plt.ylabel('Brier score')\n",
        "_ = plt.xlabel('Time')"
      ],
      "metadata": {
        "colab": {
          "base_uri": "https://localhost:8080/",
          "height": 449
        },
        "id": "clqC5CfvQ5p5",
        "outputId": "2d09fbb2-fd08-46d7-8fed-31d8f4c44d65"
      },
      "execution_count": null,
      "outputs": [
        {
          "output_type": "display_data",
          "data": {
            "text/plain": [
              "<Figure size 640x480 with 1 Axes>"
            ],
            "image/png": "[encoded data removed]"
          },
          "metadata": {}
        }
      ]
    },
    {
      "cell_type": "markdown",
      "source": [
        "# **Negative binomial log-likelihood**\n",
        "De manera similar, podemos trazar el [IPCW negative binomial log-likelihood](https://onlinelibrary.wiley.com/doi/abs/10.1002/%28SICI%291097-0258%2819990915/30%2918%3A17/18%3C2529%3A%3AAID-SIM274%3E3.0.CO%3B2-5)."
      ],
      "metadata": {
        "id": "vfrRD6OVKdis"
      }
    },
    {
      "cell_type": "code",
      "source": [
        "ev.nbll(time_grid).plot()\n",
        "plt.ylabel('NBLL')\n",
        "_ = plt.xlabel('Time')"
      ],
      "metadata": {
        "colab": {
          "base_uri": "https://localhost:8080/",
          "height": 449
        },
        "id": "wKM3nB4KRVn_",
        "outputId": "a034a557-8039-415d-cb57-d850c3003e4b"
      },
      "execution_count": null,
      "outputs": [
        {
          "output_type": "display_data",
          "data": {
            "text/plain": [
              "<Figure size 640x480 with 1 Axes>"
            ],
            "image/png": "[encoded data removed]"
          },
          "metadata": {}
        }
      ]
    },
    {
      "cell_type": "markdown",
      "source": [
        "# **Integrated scores**\n",
        "Las dos puntuaciones anteriores dependientes del tiempo se pueden integrar a lo largo del tiempo para producir una puntuación única [Graf et al. 1999](https://onlinelibrary.wiley.com/doi/abs/10.1002/%28SICI%291097-0258%2819990915/30%2918%3A17/18%3C2529%3A%3AAID-SIM274%3E3.0.CO%3B2-5). En la práctica, esto se hace mediante integración numérica sobre una cuadrícula de tiempo definida."
      ],
      "metadata": {
        "id": "UsRsL7_GKtSt"
      }
    },
    {
      "cell_type": "code",
      "source": [
        "ev.integrated_brier_score(time_grid)"
      ],
      "metadata": {
        "colab": {
          "base_uri": "https://localhost:8080/"
        },
        "id": "rv1UKis5RaYQ",
        "outputId": "87320d5f-20f5-4800-a0fa-9505fa5eab80"
      },
      "execution_count": null,
      "outputs": [
        {
          "output_type": "execute_result",
          "data": {
            "text/plain": [
              "0.1581397889961557"
            ]
          },
          "metadata": {},
          "execution_count": 29
        }
      ]
    },
    {
      "cell_type": "code",
      "source": [
        "ev.integrated_nbll(time_grid)"
      ],
      "metadata": {
        "colab": {
          "base_uri": "https://localhost:8080/"
        },
        "id": "71YgPEaqRcQl",
        "outputId": "946eaea2-3d87-4b81-8cf1-b9d35ddf2f4d"
      },
      "execution_count": null,
      "outputs": [
        {
          "output_type": "execute_result",
          "data": {
            "text/plain": [
              "0.4824443273582069"
            ]
          },
          "metadata": {},
          "execution_count": 30
        }
      ]
    }
  ]
}